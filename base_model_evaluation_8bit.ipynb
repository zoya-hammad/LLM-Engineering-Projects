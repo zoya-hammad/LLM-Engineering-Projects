{
  "cells": [
    {
      "cell_type": "markdown",
      "metadata": {
        "id": "GHsssBgWM_l0"
      },
      "source": [
        "## Predicting Product Prices\n",
        "\n",
        "Selecting a model and evaluating the quantized base model against the task."
      ]
    },
    {
      "cell_type": "code",
      "execution_count": 1,
      "metadata": {
        "id": "MDyR63OTNUJ6"
      },
      "outputs": [],
      "source": [
        "# pip installs - ignore the error message!\n",
        "\n",
        "!pip install -q datasets requests torch peft bitsandbytes transformers trl accelerate sentencepiece tiktoken matplotlib"
      ]
    },
    {
      "cell_type": "code",
      "execution_count": 2,
      "metadata": {
        "id": "-yikV8pRBer9"
      },
      "outputs": [],
      "source": [
        "# imports\n",
        "\n",
        "import os\n",
        "import re\n",
        "import math\n",
        "from tqdm import tqdm\n",
        "from google.colab import userdata\n",
        "from huggingface_hub import login\n",
        "import torch\n",
        "import transformers\n",
        "from transformers import AutoModelForCausalLM, AutoTokenizer, BitsAndBytesConfig, TrainingArguments, set_seed\n",
        "from peft import LoraConfig, PeftModel\n",
        "from datasets import load_dataset, Dataset, DatasetDict\n",
        "from datetime import datetime\n",
        "import matplotlib.pyplot as plt"
      ]
    },
    {
      "cell_type": "code",
      "execution_count": 3,
      "metadata": {
        "id": "uuTX-xonNeOK"
      },
      "outputs": [],
      "source": [
        "# Tokenizers\n",
        "\n",
        "LLAMA_3_1 = \"meta-llama/Meta-Llama-3.1-8B\"\n",
        "QWEN_2_5 = \"Qwen/Qwen2.5-7B\"\n",
        "GEMMA_2 = \"google/gemma-2-9b\"\n",
        "PHI_3 = \"microsoft/Phi-3-medium-4k-instruct\"\n",
        "\n",
        "# Constants\n",
        "\n",
        "BASE_MODEL = LLAMA_3_1\n",
        "HF_USER = \"zoya-hammadk\"\n",
        "DATASET_NAME = f\"{HF_USER}/pricer-data\"\n",
        "MAX_SEQUENCE_LENGTH = 182\n",
        "QUANT_4_BIT = False\n",
        "\n",
        "# Used for writing to output in color\n",
        "\n",
        "GREEN = \"\\033[92m\"\n",
        "YELLOW = \"\\033[93m\"\n",
        "RED = \"\\033[91m\"\n",
        "RESET = \"\\033[0m\"\n",
        "COLOR_MAP = {\"red\":RED, \"orange\": YELLOW, \"green\": GREEN}\n",
        "\n",
        "%matplotlib inline"
      ]
    },
    {
      "cell_type": "code",
      "execution_count": 4,
      "metadata": {
        "id": "WyFPZeMcM88v"
      },
      "outputs": [],
      "source": [
        "# Log in to HuggingFace\n",
        "\n",
        "hf_token = userdata.get('HF_TOKEN')\n",
        "login(hf_token, add_to_git_credential=True)"
      ]
    },
    {
      "cell_type": "code",
      "execution_count": 5,
      "metadata": {
        "id": "3ttdsrJkMsTT"
      },
      "outputs": [],
      "source": [
        "def investigate_tokenizer(model_name):\n",
        "  print(\"Investigating tokenizer for\", model_name)\n",
        "  tokenizer = AutoTokenizer.from_pretrained(model_name, trust_remote_code=True)\n",
        "  for number in [0, 1, 10, 100, 999, 1000]:\n",
        "    tokens = tokenizer.encode(str(number), add_special_tokens=False)\n",
        "    print(f\"The tokens for {number}: {tokens}\")"
      ]
    },
    {
      "cell_type": "code",
      "execution_count": null,
      "metadata": {
        "colab": {
          "base_uri": "https://localhost:8080/"
        },
        "id": "CqwfO4zzNrLE",
        "outputId": "555d113e-ecef-4ea3-a384-b45c2dbe7bb9"
      },
      "outputs": [
        {
          "name": "stdout",
          "output_type": "stream",
          "text": [
            "Investigating tokenizer for microsoft/Phi-3-medium-4k-instruct\n",
            "The tokens for 0: [29871, 29900]\n",
            "The tokens for 1: [29871, 29896]\n",
            "The tokens for 10: [29871, 29896, 29900]\n",
            "The tokens for 100: [29871, 29896, 29900, 29900]\n",
            "The tokens for 999: [29871, 29929, 29929, 29929]\n",
            "The tokens for 1000: [29871, 29896, 29900, 29900, 29900]\n"
          ]
        }
      ],
      "source": [
        "investigate_tokenizer(PHI_3)"
      ]
    },
    {
      "cell_type": "code",
      "execution_count": 7,
      "metadata": {
        "id": "5PVXACKHQhh4"
      },
      "outputs": [],
      "source": [
        "dataset = load_dataset(DATASET_NAME)\n",
        "train = dataset['train']\n",
        "test = dataset['test']"
      ]
    },
    {
      "cell_type": "code",
      "execution_count": 8,
      "metadata": {
        "colab": {
          "base_uri": "https://localhost:8080/"
        },
        "id": "pGJR24lbQlRS",
        "outputId": "c101ee35-1254-454e-a4ac-317aa1da2185"
      },
      "outputs": [
        {
          "data": {
            "text/plain": [
              "{'text': \"How much does this cost to the nearest dollar?\\n\\nAXE HEAVEN Stranger Things Eddie's Guitar Mini Guitar Model\\nIT'S TIME. Officially Licensed Stranger Things Eddie's Guitar B.C. Rich NJ Warlock Mini Guitar Model - 100% HANDCRAFTED with an amazing crackle finish just as seen in the NETFLIX Series. This collectible miniature guitar replica was hand-crafted to honor Eddie's Warlock guitar as seen in the NETFLIX Stranger Things series (and Official Trailer below). This miniature has captured all of the distinct features that the real guitar B.C. Rich Guitar has. * INCLUDES THE LIMITED EDITION STRANGER THINGS COLLECTORS SLEEVE\\\\nINCLUDES THE LIMITED EDITION STRANGER THINGS COLLECTORS SLEEVE\\\\nIndividually Handcrafted with the highest attention to detail\\\\n\\n\\nPrice is $\",\n",
              " 'price': 32.7}"
            ]
          },
          "execution_count": 8,
          "metadata": {},
          "output_type": "execute_result"
        }
      ],
      "source": [
        "test[0]"
      ]
    },
    {
      "cell_type": "markdown",
      "metadata": {
        "id": "vrxH6h00P9qc"
      },
      "source": [
        "### Prepare our Base Llama Model for evaluation\n",
        "\n",
        "Load our base model with 8 bit quantization and try out 1 example"
      ]
    },
    {
      "cell_type": "code",
      "execution_count": null,
      "metadata": {
        "id": "R_O04fKxMMT-"
      },
      "outputs": [],
      "source": [
        "## pick the right quantization\n",
        "\n",
        "if QUANT_4_BIT:\n",
        "  quant_config = BitsAndBytesConfig(\n",
        "    load_in_4bit=True,\n",
        "    bnb_4bit_use_double_quant=True,\n",
        "    bnb_4bit_compute_dtype=torch.bfloat16,\n",
        "    bnb_4bit_quant_type=\"nf4\"\n",
        "  )\n",
        "else:\n",
        "  quant_config = BitsAndBytesConfig(\n",
        "    load_in_8bit=True,\n",
        "    bnb_8bit_compute_dtype=torch.bfloat16\n",
        "  )"
      ]
    },
    {
      "cell_type": "code",
      "execution_count": 10,
      "metadata": {
        "colab": {
          "base_uri": "https://localhost:8080/",
          "height": 66,
          "referenced_widgets": [
            "ea54c4823ddf49269f203d6568631d63",
            "fe13ec2143db44bbb82e56aebc56d275",
            "9de3fe1cd03a47298b1e42e92ae7009d",
            "172828c0ab284deebd74fab090ec337c",
            "6bf851aef8f643e39576f4412d460bfc",
            "82c791e845664ef4963e749c086bea46",
            "d9bee6ca2c7e4436bbf5db3fb746f4d2",
            "db26ea0a3dd04a97affab3fab209b333",
            "ffbf87381be148e8909c00dc6dbdc325",
            "232b654d986d46d58da7e2904d964682",
            "92299c93e94b4da6abedbc5005801e25"
          ]
        },
        "id": "TAit9IzsQLcc",
        "outputId": "5733d9d2-0ecc-4634-aa13-d32048386cb6"
      },
      "outputs": [
        {
          "data": {
            "application/vnd.jupyter.widget-view+json": {
              "model_id": "ea54c4823ddf49269f203d6568631d63",
              "version_major": 2,
              "version_minor": 0
            },
            "text/plain": [
              "Loading checkpoint shards:   0%|          | 0/4 [00:00<?, ?it/s]"
            ]
          },
          "metadata": {},
          "output_type": "display_data"
        },
        {
          "name": "stdout",
          "output_type": "stream",
          "text": [
            "Memory footprint: 9.1 GB\n"
          ]
        }
      ],
      "source": [
        "# Load the Tokenizer and the Model\n",
        "\n",
        "tokenizer = AutoTokenizer.from_pretrained(BASE_MODEL, trust_remote_code=True)\n",
        "tokenizer.pad_token = tokenizer.eos_token\n",
        "tokenizer.padding_side = \"right\"\n",
        "\n",
        "base_model = AutoModelForCausalLM.from_pretrained(\n",
        "    BASE_MODEL,\n",
        "    quantization_config=quant_config,\n",
        "    device_map=\"auto\",\n",
        ")\n",
        "base_model.generation_config.pad_token_id = tokenizer.pad_token_id\n",
        "\n",
        "print(f\"Memory footprint: {base_model.get_memory_footprint() / 1e9:.1f} GB\")"
      ]
    },
    {
      "cell_type": "code",
      "execution_count": 11,
      "metadata": {
        "id": "1FfMJ2JbzEr3"
      },
      "outputs": [],
      "source": [
        "def extract_price(s):\n",
        "    if \"Price is $\" in s:\n",
        "      contents = s.split(\"Price is $\")[1]\n",
        "      contents = contents.replace(',','').replace('$','')\n",
        "      match = re.search(r\"[-+]?\\d*\\.\\d+|\\d+\", contents)\n",
        "      return float(match.group()) if match else 0\n",
        "    return 0"
      ]
    },
    {
      "cell_type": "code",
      "execution_count": 13,
      "metadata": {
        "id": "CgN8eRttRAZx"
      },
      "outputs": [],
      "source": [
        "def model_predict(prompt):\n",
        "    set_seed(42)\n",
        "    inputs = tokenizer.encode(prompt, return_tensors=\"pt\").to(\"cuda\")\n",
        "    attention_mask = torch.ones(inputs.shape, device=\"cuda\")\n",
        "    outputs = base_model.generate(inputs, max_new_tokens=4, attention_mask=attention_mask, num_return_sequences=1)\n",
        "    response = tokenizer.decode(outputs[0])\n",
        "    return extract_price(response)"
      ]
    },
    {
      "cell_type": "code",
      "execution_count": 14,
      "metadata": {
        "colab": {
          "base_uri": "https://localhost:8080/"
        },
        "id": "hpdEk2-FW6aT",
        "outputId": "5c5a0b8e-5781-4bfc-de38-25e3edd8d767"
      },
      "outputs": [
        {
          "data": {
            "text/plain": [
              "19.99"
            ]
          },
          "execution_count": 14,
          "metadata": {},
          "output_type": "execute_result"
        }
      ],
      "source": [
        "model_predict(test[0]['text'])"
      ]
    },
    {
      "cell_type": "markdown",
      "metadata": {
        "id": "auFzPUJKTLln"
      },
      "source": [
        "### Evaluation!\n",
        "\n",
        "Trying out our base Llama 3.1 model against the Test dataset\n",
        "Saving results to a text file"
      ]
    },
    {
      "cell_type": "code",
      "execution_count": 15,
      "metadata": {
        "id": "TX7yG5skGPEv"
      },
      "outputs": [],
      "source": [
        "import datetime"
      ]
    },
    {
      "cell_type": "code",
      "execution_count": 16,
      "metadata": {
        "id": "jnoI1EWGTUau"
      },
      "outputs": [],
      "source": [
        "class Tester:\n",
        "\n",
        "    def __init__(self, predictor, data, title=None, size=250):\n",
        "        self.predictor = predictor\n",
        "        self.data = data\n",
        "        self.title = title or predictor.__name__.replace(\"_\", \" \").title()\n",
        "        self.size = size\n",
        "        self.guesses = []\n",
        "        self.truths = []\n",
        "        self.errors = []\n",
        "        self.sles = []\n",
        "        self.colors = []\n",
        "\n",
        "    def color_for(self, error, truth):\n",
        "        if error<40 or error/truth < 0.2:\n",
        "            return \"green\"\n",
        "        elif error<80 or error/truth < 0.4:\n",
        "            return \"orange\"\n",
        "        else:\n",
        "            return \"red\"\n",
        "\n",
        "    def run_datapoint(self, i):\n",
        "        datapoint = self.data[i]\n",
        "        guess = self.predictor(datapoint[\"text\"])\n",
        "        truth = datapoint[\"price\"]\n",
        "        error = abs(guess - truth)\n",
        "        log_error = math.log(truth+1) - math.log(guess+1)\n",
        "        sle = log_error ** 2\n",
        "        color = self.color_for(error, truth)\n",
        "        title = datapoint[\"text\"].split(\"\\n\\n\")[1][:20] + \"...\"\n",
        "        self.guesses.append(guess)\n",
        "        self.truths.append(truth)\n",
        "        self.errors.append(error)\n",
        "        self.sles.append(sle)\n",
        "        self.colors.append(color)\n",
        "        print(f\"{COLOR_MAP[color]}{i+1}: Guess: ${guess:,.2f} Truth: ${truth:,.2f} Error: ${error:,.2f} SLE: {sle:,.2f} Item: {title}{RESET}\")\n",
        "\n",
        "    def chart(self, title):\n",
        "        max_error = max(self.errors)\n",
        "        plt.figure(figsize=(12, 8))\n",
        "        max_val = max(max(self.truths), max(self.guesses))\n",
        "        plt.plot([0, max_val], [0, max_val], color='deepskyblue', lw=2, alpha=0.6)\n",
        "        plt.scatter(self.truths, self.guesses, s=3, c=self.colors)\n",
        "        plt.xlabel('Ground Truth')\n",
        "        plt.ylabel('Model Estimate')\n",
        "        plt.xlim(0, max_val)\n",
        "        plt.ylim(0, max_val)\n",
        "        plt.title(title)\n",
        "\n",
        "        safe_title = self.title.replace(\" \", \"_\").lower()\n",
        "        timestamp = datetime.datetime.now().strftime(\"%Y%m%d_%H%M%S\")\n",
        "        filename = f\"{safe_title}_{timestamp}.png\"\n",
        "        plt.savefig(filename, dpi=300)\n",
        "\n",
        "        plt.show()\n",
        "\n",
        "    def report(self):\n",
        "        average_error = sum(self.errors) / self.size\n",
        "        rmsle = math.sqrt(sum(self.sles) / self.size)\n",
        "        hits = sum(1 for color in self.colors if color==\"green\")\n",
        "        title = f\"{self.title} Error=${average_error:,.2f} RMSLE={rmsle:,.2f} Hits={hits/self.size*100:.1f}%\"\n",
        "\n",
        "        timestamp = datetime.datetime.now().strftime(\"%Y-%m-%d %H:%M:%S\")\n",
        "        model_name = self.predictor.__name__\n",
        "\n",
        "        log_entry = (\n",
        "        f\"===== {self.title} =====\\n\"\n",
        "        f\"Timestamp: {timestamp}\\n\"\n",
        "        f\"Model: {model_name}\\n\"\n",
        "        f\"Results: {title}\\n\\n\"\n",
        "        )\n",
        "\n",
        "        with open(\"tester_log.txt\", \"a\") as f:\n",
        "          f.write(log_entry)\n",
        "\n",
        "        self.chart(title)\n",
        "\n",
        "    def run(self):\n",
        "        self.error = 0\n",
        "        for i in range(self.size):\n",
        "            self.run_datapoint(i)\n",
        "        self.report()\n",
        "\n",
        "    @classmethod\n",
        "    def test(cls, function, data):\n",
        "        cls(function, data).run()"
      ]
    },
    {
      "cell_type": "code",
      "execution_count": 17,
      "metadata": {
        "colab": {
          "base_uri": "https://localhost:8080/",
          "height": 1000
        },
        "id": "1wA5uVgpTWLC",
        "outputId": "8fd700bc-3905-4ce2-edb0-f740509026b8"
      },
      "outputs": [
        {
          "name": "stdout",
          "output_type": "stream",
          "text": [
            "\u001b[92m1: Guess: $19.99 Truth: $32.70 Error: $12.71 SLE: 0.22 Item: AXE HEAVEN Stranger ...\u001b[0m\n",
            "\u001b[91m2: Guess: $7.50 Truth: $213.94 Error: $206.44 SLE: 10.43 Item: Southbend Range Natu...\u001b[0m\n",
            "\u001b[93m3: Guess: $25.99 Truth: $79.99 Error: $54.00 SLE: 1.21 Item: SUNY Party Lights DJ...\u001b[0m\n",
            "\u001b[92m4: Guess: $25.99 Truth: $18.99 Error: $7.00 SLE: 0.09 Item: 113PCS Birthday Part...\u001b[0m\n",
            "\u001b[92m5: Guess: $25.00 Truth: $44.95 Error: $19.95 SLE: 0.32 Item: Artist Unknown A- B ...\u001b[0m\n",
            "\u001b[93m6: Guess: $25.00 Truth: $84.99 Error: $59.99 SLE: 1.43 Item: PINK Child’s Practic...\u001b[0m\n",
            "\u001b[91m7: Guess: $299.00 Truth: $592.95 Error: $293.95 SLE: 0.47 Item: PENNZONI 4ft Drum Sh...\u001b[0m\n",
            "\u001b[91m8: Guess: $19.99 Truth: $325.01 Error: $305.02 SLE: 7.52 Item: LEGO Bionicle Umarak...\u001b[0m\n",
            "\u001b[93m9: Guess: $25.00 Truth: $90.99 Error: $65.99 SLE: 1.60 Item: (Red) - Hape E3153 T...\u001b[0m\n",
            "\u001b[92m10: Guess: $19.99 Truth: $52.39 Error: $32.40 SLE: 0.87 Item: LEGO DUPLO My Town B...\u001b[0m\n",
            "\u001b[91m11: Guess: $54.99 Truth: $202.47 Error: $147.48 SLE: 1.66 Item: Aquamarine Fate/Gran...\u001b[0m\n",
            "\u001b[91m12: Guess: $25.00 Truth: $161.58 Error: $136.58 SLE: 3.36 Item: Mytheos Kakegurui xx...\u001b[0m\n",
            "\u001b[92m13: Guess: $7.50 Truth: $25.95 Error: $18.45 SLE: 1.33 Item: Rotosond Stainless S...\u001b[0m\n",
            "\u001b[92m14: Guess: $7.99 Truth: $44.05 Error: $36.06 SLE: 2.60 Item: DKKY Upgrade Shock T...\u001b[0m\n",
            "\u001b[93m15: Guess: $19.99 Truth: $69.99 Error: $50.00 SLE: 1.48 Item: Ranch Concert Ukulel...\u001b[0m\n",
            "\u001b[93m16: Guess: $25.00 Truth: $99.95 Error: $74.95 SLE: 1.84 Item: BOYA Large-Diaphragm...\u001b[0m\n",
            "\u001b[93m17: Guess: $25.99 Truth: $89.69 Error: $63.70 SLE: 1.47 Item: TOYSLY Off-Road Pick...\u001b[0m\n",
            "\u001b[91m18: Guess: $19.99 Truth: $127.99 Error: $108.00 SLE: 3.30 Item: Medicom The Return o...\u001b[0m\n",
            "\u001b[92m19: Guess: $7.99 Truth: $34.94 Error: $26.95 SLE: 1.92 Item: Axe Heaven FS-013 Fe...\u001b[0m\n",
            "\u001b[92m20: Guess: $7.00 Truth: $34.99 Error: $27.99 SLE: 2.26 Item: Grover CP68 Leather ...\u001b[0m\n",
            "\u001b[93m21: Guess: $19.99 Truth: $72.99 Error: $53.00 SLE: 1.59 Item: Costzon 3 in 1 Kids ...\u001b[0m\n",
            "\u001b[92m22: Guess: $7.99 Truth: $16.99 Error: $9.00 SLE: 0.48 Item: Hot Wheels id Vehicl...\u001b[0m\n",
            "\u001b[92m23: Guess: $7.99 Truth: $5.46 Error: $2.53 SLE: 0.11 Item: The Secret Life Of P...\u001b[0m\n",
            "\u001b[92m24: Guess: $19.99 Truth: $23.55 Error: $3.56 SLE: 0.02 Item: Mattel Pixar Spotlig...\u001b[0m\n",
            "\u001b[92m25: Guess: $19.99 Truth: $44.99 Error: $25.00 SLE: 0.62 Item: Strictly Briks Class...\u001b[0m\n",
            "\u001b[92m26: Guess: $19.99 Truth: $35.99 Error: $16.00 SLE: 0.32 Item: 4-Pack Replacement f...\u001b[0m\n",
            "\u001b[91m27: Guess: $19.99 Truth: $168.88 Error: $148.89 SLE: 4.37 Item: Funko POP Television...\u001b[0m\n",
            "\u001b[92m28: Guess: $19.99 Truth: $12.99 Error: $7.00 SLE: 0.16 Item: 116 Pcs Dinosaur The...\u001b[0m\n",
            "\u001b[92m29: Guess: $19.99 Truth: $31.99 Error: $12.00 SLE: 0.20 Item: Barbie Made to Move ...\u001b[0m\n",
            "\u001b[93m30: Guess: $25.00 Truth: $72.99 Error: $47.99 SLE: 1.09 Item: 1995 DC vs Marvel Ba...\u001b[0m\n",
            "\u001b[92m31: Guess: $19.99 Truth: $16.99 Error: $3.00 SLE: 0.02 Item: Clementoni Romantic ...\u001b[0m\n",
            "\u001b[92m32: Guess: $19.99 Truth: $18.41 Error: $1.58 SLE: 0.01 Item: Large Size Fast Slin...\u001b[0m\n",
            "\u001b[91m33: Guess: $7.99 Truth: $110.99 Error: $103.00 SLE: 6.36 Item: Remo Tucked Nuskyn C...\u001b[0m\n",
            "\u001b[91m34: Guess: $1,999.00 Truth: $539.99 Error: $1,459.01 SLE: 1.71 Item: Yamaha Solid Top Cut...\u001b[0m\n",
            "\u001b[92m35: Guess: $25.00 Truth: $41.30 Error: $16.30 SLE: 0.24 Item: Malifaux Third Editi...\u001b[0m\n",
            "\u001b[93m36: Guess: $299.99 Truth: $229.95 Error: $70.04 SLE: 0.07 Item: Rockville 12 Recharg...\u001b[0m\n",
            "\u001b[92m37: Guess: $7.99 Truth: $3.89 Error: $4.10 SLE: 0.37 Item: Monoprice 107193 Ste...\u001b[0m\n",
            "\u001b[92m38: Guess: $1.50 Truth: $14.61 Error: $13.11 SLE: 3.35 Item: Q-Parts Mini Dome Kn...\u001b[0m\n",
            "\u001b[91m39: Guess: $25.00 Truth: $279.99 Error: $254.99 SLE: 5.67 Item: Heng Long Modified E...\u001b[0m\n",
            "\u001b[92m40: Guess: $7.50 Truth: $15.99 Error: $8.49 SLE: 0.48 Item: Levy's Leathers J.K....\u001b[0m\n",
            "\u001b[92m41: Guess: $7.50 Truth: $9.99 Error: $2.49 SLE: 0.07 Item: CHIAOGOO Nylon Cable...\u001b[0m\n",
            "\u001b[92m42: Guess: $299.00 Truth: $339.99 Error: $40.99 SLE: 0.02 Item: Bunnel Pupil Student...\u001b[0m\n",
            "\u001b[92m43: Guess: $19.99 Truth: $38.99 Error: $19.00 SLE: 0.42 Item: UGEARS Mechanical Wo...\u001b[0m\n",
            "\u001b[92m44: Guess: $19.99 Truth: $43.99 Error: $24.00 SLE: 0.58 Item: Puzzled Bundle of Dr...\u001b[0m\n",
            "\u001b[92m45: Guess: $7.99 Truth: $8.94 Error: $0.95 SLE: 0.01 Item: Barbie Chelsea Doll ...\u001b[0m\n",
            "\u001b[92m46: Guess: $19.99 Truth: $46.30 Error: $26.31 SLE: 0.66 Item: amscan Miranda Right...\u001b[0m\n",
            "\u001b[92m47: Guess: $19.95 Truth: $1.99 Error: $17.96 SLE: 3.79 Item: RetroArcade.us Jamma...\u001b[0m\n",
            "\u001b[92m48: Guess: $19.99 Truth: $16.99 Error: $3.00 SLE: 0.02 Item: Seismic Audio Black ...\u001b[0m\n",
            "\u001b[91m49: Guess: $25.00 Truth: $269.99 Error: $244.99 SLE: 5.49 Item: 14g Monte Carlo Poke...\u001b[0m\n",
            "\u001b[92m50: Guess: $19.99 Truth: $39.97 Error: $19.98 SLE: 0.45 Item: Cardfight Vanguard G...\u001b[0m\n",
            "\u001b[92m51: Guess: $19.99 Truth: $17.99 Error: $2.00 SLE: 0.01 Item: GOVOY Color Dough De...\u001b[0m\n",
            "\u001b[92m52: Guess: $19.99 Truth: $19.00 Error: $0.99 SLE: 0.00 Item: Wegrower Hand Chimes...\u001b[0m\n",
            "\u001b[91m53: Guess: $299.00 Truth: $199.00 Error: $100.00 SLE: 0.16 Item: 2.4GHz Wireless Lava...\u001b[0m\n",
            "\u001b[92m54: Guess: $25.00 Truth: $52.99 Error: $27.99 SLE: 0.53 Item: GLOBACT Steel 50T Ce...\u001b[0m\n",
            "\u001b[93m55: Guess: $7.99 Truth: $55.68 Error: $47.69 SLE: 3.39 Item: GENUINE Frigidaire R...\u001b[0m\n",
            "\u001b[93m56: Guess: $7.99 Truth: $49.99 Error: $42.00 SLE: 3.01 Item: Jeereal Full Grain G...\u001b[0m\n",
            "\u001b[92m57: Guess: $19.99 Truth: $20.99 Error: $1.00 SLE: 0.00 Item: Supplying Demand Clo...\u001b[0m\n",
            "\u001b[92m58: Guess: $7.99 Truth: $29.99 Error: $22.00 SLE: 1.53 Item: Electric Guitar Neck...\u001b[0m\n",
            "\u001b[91m59: Guess: $25.00 Truth: $129.99 Error: $104.99 SLE: 2.61 Item: MXR M75 Super Badass...\u001b[0m\n",
            "\u001b[92m60: Guess: $25.00 Truth: $45.95 Error: $20.95 SLE: 0.35 Item: TCFUNDY DMX 512 Cont...\u001b[0m\n",
            "\u001b[91m61: Guess: $89.99 Truth: $209.99 Error: $120.00 SLE: 0.71 Item: Vangoa 5 String Banj...\u001b[0m\n",
            "\u001b[91m62: Guess: $19.99 Truth: $119.95 Error: $99.96 SLE: 3.07 Item: The Simpsons Exclusi...\u001b[0m\n",
            "\u001b[91m63: Guess: $60.00 Truth: $179.00 Error: $119.00 SLE: 1.17 Item: Celestion G12-65 Her...\u001b[0m\n",
            "\u001b[92m64: Guess: $7.99 Truth: $17.99 Error: $10.00 SLE: 0.56 Item: Sinnya 6 Pack Filter...\u001b[0m\n",
            "\u001b[92m65: Guess: $7.50 Truth: $22.95 Error: $15.45 SLE: 1.07 Item: PANYARD Steel Drum (...\u001b[0m\n",
            "\u001b[93m66: Guess: $25.99 Truth: $89.00 Error: $63.01 SLE: 1.45 Item: Zwide Professional W...\u001b[0m\n",
            "\u001b[93m67: Guess: $19.99 Truth: $82.90 Error: $62.91 SLE: 1.92 Item: Good Smile Re Zero -...\u001b[0m\n",
            "\u001b[91m68: Guess: $25.00 Truth: $219.99 Error: $194.99 SLE: 4.58 Item: Latin Percussion LP9...\u001b[0m\n",
            "\u001b[92m69: Guess: $19.99 Truth: $43.59 Error: $23.60 SLE: 0.57 Item: Replacement Water fi...\u001b[0m\n",
            "\u001b[92m70: Guess: $19.95 Truth: $19.95 Error: $0.00 SLE: 0.00 Item: Monster Trombone Car...\u001b[0m\n",
            "\u001b[93m71: Guess: $25.00 Truth: $101.00 Error: $76.00 SLE: 1.87 Item: LG Electronics Refri...\u001b[0m\n",
            "\u001b[91m72: Guess: $25.00 Truth: $239.99 Error: $214.99 SLE: 4.96 Item: Korilakkuma San-X Or...\u001b[0m\n",
            "\u001b[92m73: Guess: $7.99 Truth: $28.61 Error: $20.62 SLE: 1.42 Item: Great Eastern Entert...\u001b[0m\n",
            "\u001b[92m74: Guess: $19.99 Truth: $55.99 Error: $36.00 SLE: 1.00 Item: Haxtec Natural Ameth...\u001b[0m\n",
            "\u001b[92m75: Guess: $19.99 Truth: $49.43 Error: $29.44 SLE: 0.77 Item: Pop 587 The Elder Sc...\u001b[0m\n",
            "\u001b[91m76: Guess: $7.99 Truth: $97.49 Error: $89.50 SLE: 5.73 Item: Funko Pop Games Mort...\u001b[0m\n",
            "\u001b[93m77: Guess: $299.00 Truth: $439.99 Error: $140.99 SLE: 0.15 Item: SKB iSeries 30 1/2 x...\u001b[0m\n",
            "\u001b[92m78: Guess: $7.99 Truth: $34.99 Error: $27.00 SLE: 1.92 Item: Veemoon Wedding Cake...\u001b[0m\n",
            "\u001b[91m79: Guess: $299.00 Truth: $146.99 Error: $152.01 SLE: 0.50 Item: Kinglos 4/4 White Eb...\u001b[0m\n",
            "\u001b[92m80: Guess: $7.50 Truth: $8.39 Error: $0.89 SLE: 0.01 Item: Reaper Miniatures 20...\u001b[0m\n",
            "\u001b[92m81: Guess: $7.99 Truth: $38.89 Error: $30.90 SLE: 2.22 Item: Greture Sunflower Ho...\u001b[0m\n",
            "\u001b[93m82: Guess: $25.00 Truth: $97.95 Error: $72.95 SLE: 1.79 Item: Stormcast Eternals C...\u001b[0m\n",
            "\u001b[91m83: Guess: $299.00 Truth: $199.99 Error: $99.01 SLE: 0.16 Item: JIM DUNLOP Slash Wah...\u001b[0m\n",
            "\u001b[92m84: Guess: $19.99 Truth: $41.99 Error: $22.00 SLE: 0.51 Item: Bilingual Quiet Book...\u001b[0m\n",
            "\u001b[93m85: Guess: $25.00 Truth: $96.95 Error: $71.95 SLE: 1.76 Item: Exotic Electric Guit...\u001b[0m\n",
            "\u001b[91m86: Guess: $299.00 Truth: $179.00 Error: $120.00 SLE: 0.26 Item: CAVALIERE Under Cabi...\u001b[0m\n",
            "\u001b[92m87: Guess: $19.99 Truth: $40.99 Error: $21.00 SLE: 0.48 Item: JUSOP Microphone Iso...\u001b[0m\n",
            "\u001b[92m88: Guess: $25.00 Truth: $2.39 Error: $22.61 SLE: 4.15 Item: YU-GI-OH! - World of...\u001b[0m\n",
            "\u001b[92m89: Guess: $7.99 Truth: $19.49 Error: $11.50 SLE: 0.68 Item: Door Bin Shelf - Com...\u001b[0m\n",
            "\u001b[91m90: Guess: $89.99 Truth: $259.95 Error: $169.96 SLE: 1.11 Item: Odyssey FZPIDDJSXBL ...\u001b[0m\n",
            "\u001b[91m91: Guess: $299.00 Truth: $601.00 Error: $302.00 SLE: 0.49 Item: Samson Expedition XP...\u001b[0m\n",
            "\u001b[92m92: Guess: $19.99 Truth: $29.99 Error: $10.00 SLE: 0.15 Item: Fanattik Yu-Gi-Oh Me...\u001b[0m\n",
            "\u001b[92m93: Guess: $7.99 Truth: $2.08 Error: $5.91 SLE: 1.15 Item: Magic The Gathering ...\u001b[0m\n",
            "\u001b[92m94: Guess: $19.99 Truth: $36.99 Error: $17.00 SLE: 0.35 Item: Marvel Legends Annih...\u001b[0m\n",
            "\u001b[93m95: Guess: $19.99 Truth: $69.99 Error: $50.00 SLE: 1.48 Item: XPIY Tricycle for To...\u001b[0m\n",
            "\u001b[93m96: Guess: $19.99 Truth: $75.00 Error: $55.01 SLE: 1.66 Item: Super Heroes Lego 76...\u001b[0m\n",
            "\u001b[92m97: Guess: $19.99 Truth: $57.98 Error: $37.99 SLE: 1.07 Item: Batman Dark Knight M...\u001b[0m\n",
            "\u001b[92m98: Guess: $19.99 Truth: $55.89 Error: $35.90 SLE: 0.99 Item: KOKKO Looper Guitar ...\u001b[0m\n",
            "\u001b[92m99: Guess: $19.99 Truth: $58.99 Error: $39.00 SLE: 1.10 Item: Upgraded Microphone ...\u001b[0m\n",
            "\u001b[92m100: Guess: $19.99 Truth: $56.92 Error: $36.93 SLE: 1.03 Item: Redcat Racing Hexfly...\u001b[0m\n",
            "\u001b[92m101: Guess: $25.00 Truth: $33.99 Error: $8.99 SLE: 0.09 Item: CuberSpeed GAN 356 A...\u001b[0m\n",
            "\u001b[92m102: Guess: $1.50 Truth: $3.07 Error: $1.57 SLE: 0.24 Item: Yu-Gi-Oh! - Icarus A...\u001b[0m\n",
            "\u001b[92m103: Guess: $19.99 Truth: $48.64 Error: $28.65 SLE: 0.74 Item: Hohner Green Tones 3...\u001b[0m\n",
            "\u001b[92m104: Guess: $19.99 Truth: $32.62 Error: $12.63 SLE: 0.22 Item: Musiclily Pro Alumin...\u001b[0m\n",
            "\u001b[91m105: Guess: $299.00 Truth: $149.99 Error: $149.01 SLE: 0.47 Item: PreSonus AudioBox iT...\u001b[0m\n",
            "\u001b[91m106: Guess: $1,999.00 Truth: $199.95 Error: $1,799.05 SLE: 5.28 Item: Rockville MOTIONSTRI...\u001b[0m\n",
            "\u001b[92m107: Guess: $7.99 Truth: $22.88 Error: $14.89 SLE: 0.95 Item: Hot Racing Aluminum ...\u001b[0m\n",
            "\u001b[92m108: Guess: $7.99 Truth: $22.23 Error: $14.24 SLE: 0.90 Item: Disney Cars Toys Mov...\u001b[0m\n",
            "\u001b[93m109: Guess: $7.99 Truth: $62.99 Error: $55.00 SLE: 3.85 Item: HASMX 2 Pack Replace...\u001b[0m\n",
            "\u001b[91m110: Guess: $25.00 Truth: $299.00 Error: $274.00 SLE: 5.98 Item: Frigidaire Oven Cont...\u001b[0m\n",
            "\u001b[92m111: Guess: $1.50 Truth: $1.09 Error: $0.41 SLE: 0.03 Item: Magic the Gathering ...\u001b[0m\n",
            "\u001b[91m112: Guess: $19.99 Truth: $118.99 Error: $99.00 SLE: 3.04 Item: Mezco Toyz Living De...\u001b[0m\n",
            "\u001b[91m113: Guess: $19.99 Truth: $119.81 Error: $99.82 SLE: 3.06 Item: Hey! Play! Classic G...\u001b[0m\n",
            "\u001b[92m114: Guess: $19.99 Truth: $21.99 Error: $2.00 SLE: 0.01 Item: Ultra Durable Dryer ...\u001b[0m\n",
            "\u001b[92m115: Guess: $7.99 Truth: $21.75 Error: $13.76 SLE: 0.86 Item: RPS PRODUCTS Holmes ...\u001b[0m\n",
            "\u001b[92m116: Guess: $7.99 Truth: $41.88 Error: $33.89 SLE: 2.44 Item: Funko Pop! Moment In...\u001b[0m\n",
            "\u001b[91m117: Guess: $19.99 Truth: $275.00 Error: $255.01 SLE: 6.64 Item: Kotobukiya Dc Comics...\u001b[0m\n",
            "\u001b[93m118: Guess: $25.00 Truth: $72.99 Error: $47.99 SLE: 1.09 Item: Ravensburger 540 Cel...\u001b[0m\n",
            "\u001b[92m119: Guess: $25.00 Truth: $29.15 Error: $4.15 SLE: 0.02 Item: Steiff USA Handmade ...\u001b[0m\n",
            "\u001b[93m120: Guess: $25.00 Truth: $98.00 Error: $73.00 SLE: 1.79 Item: Tengen Toppa Gurren ...\u001b[0m\n",
            "\u001b[91m121: Guess: $19.99 Truth: $139.99 Error: $120.00 SLE: 3.63 Item: WWE Elite Collection...\u001b[0m\n",
            "\u001b[92m122: Guess: $59.99 Truth: $94.95 Error: $34.96 SLE: 0.21 Item: Singing Machine Groo...\u001b[0m\n",
            "\u001b[92m123: Guess: $19.99 Truth: $41.99 Error: $22.00 SLE: 0.51 Item: Ruibo 88 Key Keyboar...\u001b[0m\n",
            "\u001b[92m124: Guess: $19.99 Truth: $19.99 Error: $0.00 SLE: 0.00 Item: STAR WARS The Vintag...\u001b[0m\n",
            "\u001b[91m125: Guess: $89.00 Truth: $197.99 Error: $108.99 SLE: 0.63 Item: Truetone V3 Jekyll &...\u001b[0m\n",
            "\u001b[92m126: Guess: $19.99 Truth: $12.76 Error: $7.23 SLE: 0.18 Item: 13 Inch Authentic In...\u001b[0m\n",
            "\u001b[91m127: Guess: $25.00 Truth: $179.95 Error: $154.95 SLE: 3.76 Item: 48 Pack of (12 x 12 ...\u001b[0m\n",
            "\u001b[92m128: Guess: $19.99 Truth: $16.99 Error: $3.00 SLE: 0.02 Item: Writing Tablet 10 In...\u001b[0m\n",
            "\u001b[91m129: Guess: $1,800.00 Truth: $529.20 Error: $1,270.80 SLE: 1.50 Item: TAMIYA 1/14 King Hau...\u001b[0m\n",
            "\u001b[92m130: Guess: $19.99 Truth: $39.59 Error: $19.60 SLE: 0.43 Item: DIAMOND SELECT TOYS ...\u001b[0m\n",
            "\u001b[91m131: Guess: $25.00 Truth: $174.42 Error: $149.42 SLE: 3.64 Item: Bandai Tamashii Nati...\u001b[0m\n",
            "\u001b[92m132: Guess: $7.99 Truth: $17.99 Error: $10.00 SLE: 0.56 Item: Jiayouy 15Pcs Size V...\u001b[0m\n",
            "\u001b[91m133: Guess: $19.99 Truth: $149.00 Error: $129.01 SLE: 3.87 Item: Mould King 13082 Pic...\u001b[0m\n",
            "\u001b[92m134: Guess: $19.99 Truth: $49.99 Error: $30.00 SLE: 0.79 Item: UGEARS 3D Puzzle for...\u001b[0m\n",
            "\u001b[92m135: Guess: $299.99 Truth: $359.99 Error: $60.00 SLE: 0.03 Item: HONEY JOY Inflatable...\u001b[0m\n",
            "\u001b[92m136: Guess: $25.00 Truth: $24.99 Error: $0.01 SLE: 0.00 Item: ABY Selecor Combiner...\u001b[0m\n",
            "\u001b[92m137: Guess: $19.99 Truth: $27.99 Error: $8.00 SLE: 0.10 Item: 12 Small Gun Set for...\u001b[0m\n",
            "\u001b[91m138: Guess: $25.00 Truth: $247.00 Error: $222.00 SLE: 5.09 Item: Seymour Duncan - - S...\u001b[0m\n",
            "\u001b[91m139: Guess: $19.95 Truth: $121.15 Error: $101.20 SLE: 3.11 Item: Odyssey Scrim Werks ...\u001b[0m\n",
            "\u001b[92m140: Guess: $7.00 Truth: $43.37 Error: $36.37 SLE: 2.93 Item: Natural Goatskin, 22...\u001b[0m\n",
            "\u001b[91m141: Guess: $25.99 Truth: $169.99 Error: $144.00 SLE: 3.41 Item: CKYSCHN Remote Contr...\u001b[0m\n",
            "\u001b[91m142: Guess: $299.00 Truth: $549.99 Error: $250.99 SLE: 0.37 Item: Goldtone M Bass Micr...\u001b[0m\n",
            "\u001b[92m143: Guess: $7.99 Truth: $19.95 Error: $11.96 SLE: 0.72 Item: Remo Diplomat Coated...\u001b[0m\n",
            "\u001b[92m144: Guess: $7.99 Truth: $18.98 Error: $10.99 SLE: 0.64 Item: MOMOFULL High Chair ...\u001b[0m\n",
            "\u001b[92m145: Guess: $7.99 Truth: $11.99 Error: $4.00 SLE: 0.14 Item: Nature Bound Butterf...\u001b[0m\n",
            "\u001b[92m146: Guess: $19.99 Truth: $56.40 Error: $36.41 SLE: 1.01 Item: Swing Set Stuff Inc....\u001b[0m\n",
            "\u001b[91m147: Guess: $89.99 Truth: $179.99 Error: $90.00 SLE: 0.47 Item: Other, Electric/Acou...\u001b[0m\n",
            "\u001b[91m148: Guess: $54.95 Truth: $199.95 Error: $145.00 SLE: 1.63 Item: Classic Heartwood Bu...\u001b[0m\n",
            "\u001b[92m149: Guess: $19.99 Truth: $34.99 Error: $15.00 SLE: 0.29 Item: Toddler Meerkat Cost...\u001b[0m\n",
            "\u001b[93m150: Guess: $19.99 Truth: $74.95 Error: $54.96 SLE: 1.65 Item: CampCo Sniper Rifle ...\u001b[0m\n",
            "\u001b[92m151: Guess: $19.99 Truth: $19.99 Error: $0.00 SLE: 0.00 Item: YOCOM Wireless Laval...\u001b[0m\n",
            "\u001b[91m152: Guess: $89.99 Truth: $199.99 Error: $110.00 SLE: 0.63 Item: Costzon Inflatable B...\u001b[0m\n",
            "\u001b[91m153: Guess: $299.00 Truth: $99.99 Error: $199.01 SLE: 1.19 Item: Vertex Steel String ...\u001b[0m\n",
            "\u001b[92m154: Guess: $7.99 Truth: $28.47 Error: $20.48 SLE: 1.41 Item: Bnineteenteam Drum C...\u001b[0m\n",
            "\u001b[93m155: Guess: $19.99 Truth: $78.89 Error: $58.90 SLE: 1.79 Item: LEGO Castle Gold Get...\u001b[0m\n",
            "\u001b[91m156: Guess: $299.99 Truth: $146.00 Error: $153.99 SLE: 0.51 Item: LEGO Technic Ford F-...\u001b[0m\n",
            "\u001b[93m157: Guess: $25.00 Truth: $71.98 Error: $46.98 SLE: 1.07 Item: 2020 Topps Garbage P...\u001b[0m\n",
            "\u001b[92m158: Guess: $7.50 Truth: $12.29 Error: $4.79 SLE: 0.20 Item: Pirastro Chromcor 4/...\u001b[0m\n",
            "\u001b[92m159: Guess: $25.00 Truth: $38.99 Error: $13.99 SLE: 0.19 Item: Savox Metal Gear Sta...\u001b[0m\n",
            "\u001b[92m160: Guess: $19.99 Truth: $16.97 Error: $3.02 SLE: 0.02 Item: Techecook Dryer Repa...\u001b[0m\n",
            "\u001b[92m161: Guess: $299.99 Truth: $302.49 Error: $2.50 SLE: 0.00 Item: hOmeLabs Digital Cou...\u001b[0m\n",
            "\u001b[92m162: Guess: $7.99 Truth: $24.95 Error: $16.96 SLE: 1.12 Item: Do A Dot Art Fruit S...\u001b[0m\n",
            "\u001b[93m163: Guess: $19.99 Truth: $79.73 Error: $59.74 SLE: 1.81 Item: Mattel Games FTB29 P...\u001b[0m\n",
            "\u001b[92m164: Guess: $1.00 Truth: $3.96 Error: $2.96 SLE: 0.82 Item: American Art Classic...\u001b[0m\n",
            "\u001b[93m165: Guess: $25.00 Truth: $99.99 Error: $74.99 SLE: 1.84 Item: Replogle Reso Tradit...\u001b[0m\n",
            "\u001b[92m166: Guess: $7.99 Truth: $32.50 Error: $24.51 SLE: 1.73 Item: Technica Brand Compa...\u001b[0m\n",
            "\u001b[93m167: Guess: $7.99 Truth: $54.99 Error: $47.00 SLE: 3.35 Item: RCMYou RC Stainless ...\u001b[0m\n",
            "\u001b[92m168: Guess: $7.99 Truth: $6.22 Error: $1.77 SLE: 0.05 Item: BQLZR Guitar Potenti...\u001b[0m\n",
            "\u001b[92m169: Guess: $19.99 Truth: $49.55 Error: $29.56 SLE: 0.77 Item: Vox VFS2A Dual Guita...\u001b[0m\n",
            "\u001b[92m170: Guess: $7.99 Truth: $8.99 Error: $1.00 SLE: 0.01 Item: NUOMI Flannel Cloth ...\u001b[0m\n",
            "\u001b[93m171: Guess: $25.00 Truth: $92.16 Error: $67.16 SLE: 1.63 Item: Max Factory Genshin ...\u001b[0m\n",
            "\u001b[91m172: Guess: $25.00 Truth: $139.99 Error: $114.99 SLE: 2.86 Item: J Reynolds JR14PK Ac...\u001b[0m\n",
            "\u001b[93m173: Guess: $19.99 Truth: $77.98 Error: $57.99 SLE: 1.76 Item: LEGO City Great Vehi...\u001b[0m\n",
            "\u001b[91m174: Guess: $25.00 Truth: $119.95 Error: $94.95 SLE: 2.36 Item: Diamond Select Toys ...\u001b[0m\n",
            "\u001b[93m175: Guess: $299.00 Truth: $379.95 Error: $80.95 SLE: 0.06 Item: Fishman Fluence Greg...\u001b[0m\n",
            "\u001b[93m176: Guess: $19.99 Truth: $64.99 Error: $45.00 SLE: 1.31 Item: Merchants & Marauder...\u001b[0m\n",
            "\u001b[92m177: Guess: $59.99 Truth: $99.00 Error: $39.01 SLE: 0.24 Item: Ryze Tech Tello - Mi...\u001b[0m\n",
            "\u001b[92m178: Guess: $7.99 Truth: $37.50 Error: $29.51 SLE: 2.12 Item: Jigsaw Puzzles Switz...\u001b[0m\n",
            "\u001b[91m179: Guess: $299.00 Truth: $99.95 Error: $199.05 SLE: 1.19 Item: Avedis Zildjian Comp...\u001b[0m\n",
            "\u001b[92m180: Guess: $19.99 Truth: $25.59 Error: $5.60 SLE: 0.06 Item: Sueseip Kids Smart W...\u001b[0m\n",
            "\u001b[91m181: Guess: $59.00 Truth: $159.00 Error: $100.00 SLE: 0.96 Item: EMG ACS Acoustic Gui...\u001b[0m\n",
            "\u001b[91m182: Guess: $19.95 Truth: $165.10 Error: $145.15 SLE: 4.29 Item: Hipshot Tone-a-Matic...\u001b[0m\n",
            "\u001b[92m183: Guess: $19.99 Truth: $51.09 Error: $31.10 SLE: 0.83 Item: Sunny toys 28 Angel ...\u001b[0m\n",
            "\u001b[92m184: Guess: $299.00 Truth: $291.99 Error: $7.01 SLE: 0.00 Item: Btuty Eb E-flat Alto...\u001b[0m\n",
            "\u001b[92m185: Guess: $25.99 Truth: $13.99 Error: $12.00 SLE: 0.35 Item: Luluo Santa Claus Ch...\u001b[0m\n",
            "\u001b[91m186: Guess: $7.99 Truth: $139.95 Error: $131.96 SLE: 7.58 Item: OEM Samsung Dryer Li...\u001b[0m\n",
            "\u001b[92m187: Guess: $7.99 Truth: $9.99 Error: $2.00 SLE: 0.04 Item: Funnlot Hanukkah Gam...\u001b[0m\n",
            "\u001b[92m188: Guess: $7.99 Truth: $9.99 Error: $2.00 SLE: 0.04 Item: Coola Christmas Craf...\u001b[0m\n",
            "\u001b[91m189: Guess: $299.00 Truth: $699.99 Error: $400.99 SLE: 0.72 Item: Ibanez AG95QA AG Art...\u001b[0m\n",
            "\u001b[91m190: Guess: $19.99 Truth: $139.41 Error: $119.42 SLE: 3.61 Item: DW Hobby 3D Flying A...\u001b[0m\n",
            "\u001b[93m191: Guess: $89.99 Truth: $132.95 Error: $42.96 SLE: 0.15 Item: STEAMFORGED Godtear ...\u001b[0m\n",
            "\u001b[92m192: Guess: $7.99 Truth: $8.90 Error: $0.91 SLE: 0.01 Item: Interal Shop Guitar ...\u001b[0m\n",
            "\u001b[93m193: Guess: $7.00 Truth: $69.41 Error: $62.41 SLE: 4.73 Item: Electrolux Door Hand...\u001b[0m\n",
            "\u001b[92m194: Guess: $19.99 Truth: $49.95 Error: $29.96 SLE: 0.79 Item: Maisto R/C 27Mhz Roc...\u001b[0m\n",
            "\u001b[92m195: Guess: $7.99 Truth: $20.99 Error: $13.00 SLE: 0.80 Item: Odowalker Pack of 4 ...\u001b[0m\n",
            "\u001b[91m196: Guess: $25.00 Truth: $314.95 Error: $289.95 SLE: 6.24 Item: Pokemon TCG XY Evolu...\u001b[0m\n",
            "\u001b[92m197: Guess: $25.00 Truth: $27.99 Error: $2.99 SLE: 0.01 Item: Transformer Toy Defo...\u001b[0m\n",
            "\u001b[92m198: Guess: $19.99 Truth: $54.99 Error: $35.00 SLE: 0.96 Item: PlanToys Van Walker,...\u001b[0m\n",
            "\u001b[92m199: Guess: $7.99 Truth: $27.99 Error: $20.00 SLE: 1.37 Item: Living Nature Brown ...\u001b[0m\n",
            "\u001b[92m200: Guess: $19.99 Truth: $16.99 Error: $3.00 SLE: 0.02 Item: Silence Razer Mini S...\u001b[0m\n",
            "\u001b[91m201: Guess: $19.99 Truth: $119.95 Error: $99.96 SLE: 3.07 Item: LEGO NINJAGO Fire St...\u001b[0m\n",
            "\u001b[91m202: Guess: $25.00 Truth: $110.67 Error: $85.67 SLE: 2.12 Item: Saint Seiya Myth Clo...\u001b[0m\n",
            "\u001b[92m203: Guess: $19.99 Truth: $57.99 Error: $38.00 SLE: 1.07 Item: Funko POP Games Fall...\u001b[0m\n",
            "\u001b[91m204: Guess: $25.00 Truth: $169.00 Error: $144.00 SLE: 3.53 Item: Kala KA-CE Satin Mah...\u001b[0m\n",
            "\u001b[91m205: Guess: $19.99 Truth: $108.15 Error: $88.16 SLE: 2.72 Item: Bandaï Saint Seiya S...\u001b[0m\n",
            "\u001b[92m206: Guess: $19.99 Truth: $30.99 Error: $11.00 SLE: 0.18 Item: LESHITIAN Kids Lapto...\u001b[0m\n",
            "\u001b[91m207: Guess: $59.99 Truth: $399.99 Error: $340.00 SLE: 3.55 Item: Causeair Big Inflata...\u001b[0m\n",
            "\u001b[91m208: Guess: $19.99 Truth: $128.89 Error: $108.90 SLE: 3.32 Item: MAYS 3D Metal Puzzle...\u001b[0m\n",
            "\u001b[91m209: Guess: $25.00 Truth: $219.95 Error: $194.95 SLE: 4.58 Item: DisplayGifts Electri...\u001b[0m\n",
            "\u001b[92m210: Guess: $7.99 Truth: $42.98 Error: $34.99 SLE: 2.52 Item: QT RC Airplane, 2 Ch...\u001b[0m\n",
            "\u001b[92m211: Guess: $25.00 Truth: $37.76 Error: $12.76 SLE: 0.16 Item: Traxxas 5374X BRUSHL...\u001b[0m\n",
            "\u001b[93m212: Guess: $25.00 Truth: $98.99 Error: $73.99 SLE: 1.81 Item: Kotobukiya ARTFX+ St...\u001b[0m\n",
            "\u001b[91m213: Guess: $299.99 Truth: $189.95 Error: $110.04 SLE: 0.21 Item: Aosom 12V Ride On To...\u001b[0m\n",
            "\u001b[92m214: Guess: $7.99 Truth: $5.48 Error: $2.51 SLE: 0.11 Item: Violin Bow Clip Kit ...\u001b[0m\n",
            "\u001b[93m215: Guess: $19.99 Truth: $75.00 Error: $55.01 SLE: 1.66 Item: Funko POP Movies Boo...\u001b[0m\n",
            "\u001b[92m216: Guess: $25.00 Truth: $34.99 Error: $9.99 SLE: 0.11 Item: Seasons Viking Princ...\u001b[0m\n",
            "\u001b[92m217: Guess: $7.50 Truth: $16.99 Error: $9.49 SLE: 0.56 Item: Ernie Ball 2566 Alum...\u001b[0m\n",
            "\u001b[92m218: Guess: $7.99 Truth: $19.99 Error: $12.00 SLE: 0.72 Item: Egg Holder for Refri...\u001b[0m\n",
            "\u001b[91m219: Guess: $299.99 Truth: $129.99 Error: $170.00 SLE: 0.69 Item: Zoom MS-50G MultiSto...\u001b[0m\n",
            "\u001b[91m220: Guess: $25.00 Truth: $254.35 Error: $229.35 SLE: 5.22 Item: SOUTHBEND RANGE Hi L...\u001b[0m\n",
            "\u001b[92m221: Guess: $19.99 Truth: $37.99 Error: $18.00 SLE: 0.38 Item: 12 pack Acoustic Pan...\u001b[0m\n",
            "\u001b[93m222: Guess: $299.00 Truth: $219.99 Error: $79.01 SLE: 0.09 Item: Nektar Pacer - USB M...\u001b[0m\n",
            "\u001b[92m223: Guess: $89.99 Truth: $79.98 Error: $10.01 SLE: 0.01 Item: Steel Tongue Drum, H...\u001b[0m\n",
            "\u001b[92m224: Guess: $25.00 Truth: $51.95 Error: $26.95 SLE: 0.51 Item: Protect'em Covers Pa...\u001b[0m\n",
            "\u001b[92m225: Guess: $54.99 Truth: $94.66 Error: $39.67 SLE: 0.29 Item: Beast Kingdom The Da...\u001b[0m\n",
            "\u001b[92m226: Guess: $7.99 Truth: $16.99 Error: $9.00 SLE: 0.48 Item: Ant Mag Guitar Hange...\u001b[0m\n",
            "\u001b[92m227: Guess: $19.99 Truth: $48.95 Error: $28.96 SLE: 0.75 Item: Diamond Select Toys ...\u001b[0m\n",
            "\u001b[93m228: Guess: $7.99 Truth: $62.99 Error: $55.00 SLE: 3.85 Item: Shopkins Food Themed...\u001b[0m\n",
            "\u001b[92m229: Guess: $19.99 Truth: $24.95 Error: $4.96 SLE: 0.04 Item: Wettarn 10 Set Gradu...\u001b[0m\n",
            "\u001b[93m230: Guess: $19.99 Truth: $63.98 Error: $43.99 SLE: 1.28 Item: Spider-Man Marvel Th...\u001b[0m\n",
            "\u001b[93m231: Guess: $19.99 Truth: $84.95 Error: $64.96 SLE: 1.99 Item: Hot Wheels Team Hot ...\u001b[0m\n",
            "\u001b[92m232: Guess: $19.99 Truth: $39.99 Error: $20.00 SLE: 0.45 Item: DNYSYSJ Mini Portabl...\u001b[0m\n",
            "\u001b[92m233: Guess: $25.99 Truth: $42.99 Error: $17.00 SLE: 0.24 Item: Disco Mirror Ball Si...\u001b[0m\n",
            "\u001b[92m234: Guess: $7.99 Truth: $6.00 Error: $1.99 SLE: 0.06 Item: Djeco Stickers, Knig...\u001b[0m\n",
            "\u001b[92m235: Guess: $7.99 Truth: $28.89 Error: $20.90 SLE: 1.44 Item: PK Power AC/DC Adapt...\u001b[0m\n",
            "\u001b[92m236: Guess: $7.99 Truth: $19.99 Error: $12.00 SLE: 0.72 Item: Supplying Demand Clo...\u001b[0m\n",
            "\u001b[93m237: Guess: $7.99 Truth: $75.00 Error: $67.01 SLE: 4.56 Item: Nerf N-Strike Maveri...\u001b[0m\n",
            "\u001b[93m238: Guess: $19.99 Truth: $79.99 Error: $60.00 SLE: 1.82 Item: SpeedArmis Giant Woo...\u001b[0m\n",
            "\u001b[92m239: Guess: $19.99 Truth: $11.95 Error: $8.04 SLE: 0.23 Item: BOHS Montessori 1-10...\u001b[0m\n",
            "\u001b[92m240: Guess: $25.00 Truth: $46.39 Error: $21.39 SLE: 0.36 Item: Papillon dog figure ...\u001b[0m\n",
            "\u001b[92m241: Guess: $7.00 Truth: $28.99 Error: $21.99 SLE: 1.75 Item: Supplying Demand Ele...\u001b[0m\n",
            "\u001b[92m242: Guess: $19.99 Truth: $35.96 Error: $15.97 SLE: 0.32 Item: Eenbei Talking Angel...\u001b[0m\n",
            "\u001b[92m243: Guess: $25.00 Truth: $56.40 Error: $31.40 SLE: 0.63 Item: Springbok Coca-Cola ...\u001b[0m\n",
            "\u001b[92m244: Guess: $89.00 Truth: $99.00 Error: $10.00 SLE: 0.01 Item: Saramonic 2.4GHz Dua...\u001b[0m\n",
            "\u001b[93m245: Guess: $25.00 Truth: $82.88 Error: $57.88 SLE: 1.37 Item: Barbie as Scarlett O...\u001b[0m\n",
            "\u001b[93m246: Guess: $19.99 Truth: $84.88 Error: $64.89 SLE: 1.99 Item: DC Collectibles Batm...\u001b[0m\n",
            "\u001b[92m247: Guess: $25.00 Truth: $53.00 Error: $28.00 SLE: 0.53 Item: 3rd Eye, or Pineal C...\u001b[0m\n",
            "\u001b[92m248: Guess: $7.99 Truth: $12.13 Error: $4.14 SLE: 0.14 Item: Yosoo Health Gear Sh...\u001b[0m\n",
            "\u001b[91m249: Guess: $299.99 Truth: $114.99 Error: $185.00 SLE: 0.91 Item: LEGO Creator Expert ...\u001b[0m\n",
            "\u001b[93m250: Guess: $7.99 Truth: $51.29 Error: $43.30 SLE: 3.10 Item: Hohner Blues Harp Ha...\u001b[0m\n"
          ]
        },
        {
          "data": {
            "image/png": "[encoded data removed]",
            "text/plain": [
              "<Figure size 1200x800 with 1 Axes>"
            ]
          },
          "metadata": {},
          "output_type": "display_data"
        }
      ],
      "source": [
        "Tester.test(model_predict, test)"
      ]
    }
  ],
  "metadata": {
    "accelerator": "GPU",
    "colab": {
      "gpuType": "T4",
      "provenance": []
    },
    "kernelspec": {
      "display_name": "Python 3",
      "name": "python3"
    },
    "language_info": {
      "name": "python"
    },
    "widgets": {
      "application/vnd.jupyter.widget-state+json": {
        "172828c0ab284deebd74fab090ec337c": {
          "model_module": "@jupyter-widgets/controls",
          "model_module_version": "1.5.0",
          "model_name": "HTMLModel",
          "state": {
            "_dom_classes": [],
            "_model_module": "@jupyter-widgets/controls",
            "_model_module_version": "1.5.0",
            "_model_name": "HTMLModel",
            "_view_count": null,
            "_view_module": "@jupyter-widgets/controls",
            "_view_module_version": "1.5.0",
            "_view_name": "HTMLView",
            "description": "",
            "description_tooltip": null,
            "layout": "IPY_MODEL_232b654d986d46d58da7e2904d964682",
            "placeholder": "​",
            "style": "IPY_MODEL_92299c93e94b4da6abedbc5005801e25",
            "value": " 4/4 [01:16&lt;00:00, 16.29s/it]"
          }
        },
        "232b654d986d46d58da7e2904d964682": {
          "model_module": "@jupyter-widgets/base",
          "model_module_version": "1.2.0",
          "model_name": "LayoutModel",
          "state": {
            "_model_module": "@jupyter-widgets/base",
            "_model_module_version": "1.2.0",
            "_model_name": "LayoutModel",
            "_view_count": null,
            "_view_module": "@jupyter-widgets/base",
            "_view_module_version": "1.2.0",
            "_view_name": "LayoutView",
            "align_content": null,
            "align_items": null,
            "align_self": null,
            "border": null,
            "bottom": null,
            "display": null,
            "flex": null,
            "flex_flow": null,
            "grid_area": null,
            "grid_auto_columns": null,
            "grid_auto_flow": null,
            "grid_auto_rows": null,
            "grid_column": null,
            "grid_gap": null,
            "grid_row": null,
            "grid_template_areas": null,
            "grid_template_columns": null,
            "grid_template_rows": null,
            "height": null,
            "justify_content": null,
            "justify_items": null,
            "left": null,
            "margin": null,
            "max_height": null,
            "max_width": null,
            "min_height": null,
            "min_width": null,
            "object_fit": null,
            "object_position": null,
            "order": null,
            "overflow": null,
            "overflow_x": null,
            "overflow_y": null,
            "padding": null,
            "right": null,
            "top": null,
            "visibility": null,
            "width": null
          }
        },
        "6bf851aef8f643e39576f4412d460bfc": {
          "model_module": "@jupyter-widgets/base",
          "model_module_version": "1.2.0",
          "model_name": "LayoutModel",
          "state": {
            "_model_module": "@jupyter-widgets/base",
            "_model_module_version": "1.2.0",
            "_model_name": "LayoutModel",
            "_view_count": null,
            "_view_module": "@jupyter-widgets/base",
            "_view_module_version": "1.2.0",
            "_view_name": "LayoutView",
            "align_content": null,
            "align_items": null,
            "align_self": null,
            "border": null,
            "bottom": null,
            "display": null,
            "flex": null,
            "flex_flow": null,
            "grid_area": null,
            "grid_auto_columns": null,
            "grid_auto_flow": null,
            "grid_auto_rows": null,
            "grid_column": null,
            "grid_gap": null,
            "grid_row": null,
            "grid_template_areas": null,
            "grid_template_columns": null,
            "grid_template_rows": null,
            "height": null,
            "justify_content": null,
            "justify_items": null,
            "left": null,
            "margin": null,
            "max_height": null,
            "max_width": null,
            "min_height": null,
            "min_width": null,
            "object_fit": null,
            "object_position": null,
            "order": null,
            "overflow": null,
            "overflow_x": null,
            "overflow_y": null,
            "padding": null,
            "right": null,
            "top": null,
            "visibility": null,
            "width": null
          }
        },
        "82c791e845664ef4963e749c086bea46": {
          "model_module": "@jupyter-widgets/base",
          "model_module_version": "1.2.0",
          "model_name": "LayoutModel",
          "state": {
            "_model_module": "@jupyter-widgets/base",
            "_model_module_version": "1.2.0",
            "_model_name": "LayoutModel",
            "_view_count": null,
            "_view_module": "@jupyter-widgets/base",
            "_view_module_version": "1.2.0",
            "_view_name": "LayoutView",
            "align_content": null,
            "align_items": null,
            "align_self": null,
            "border": null,
            "bottom": null,
            "display": null,
            "flex": null,
            "flex_flow": null,
            "grid_area": null,
            "grid_auto_columns": null,
            "grid_auto_flow": null,
            "grid_auto_rows": null,
            "grid_column": null,
            "grid_gap": null,
            "grid_row": null,
            "grid_template_areas": null,
            "grid_template_columns": null,
            "grid_template_rows": null,
            "height": null,
            "justify_content": null,
            "justify_items": null,
            "left": null,
            "margin": null,
            "max_height": null,
            "max_width": null,
            "min_height": null,
            "min_width": null,
            "object_fit": null,
            "object_position": null,
            "order": null,
            "overflow": null,
            "overflow_x": null,
            "overflow_y": null,
            "padding": null,
            "right": null,
            "top": null,
            "visibility": null,
            "width": null
          }
        },
        "92299c93e94b4da6abedbc5005801e25": {
          "model_module": "@jupyter-widgets/controls",
          "model_module_version": "1.5.0",
          "model_name": "DescriptionStyleModel",
          "state": {
            "_model_module": "@jupyter-widgets/controls",
            "_model_module_version": "1.5.0",
            "_model_name": "DescriptionStyleModel",
            "_view_count": null,
            "_view_module": "@jupyter-widgets/base",
            "_view_module_version": "1.2.0",
            "_view_name": "StyleView",
            "description_width": ""
          }
        },
        "9de3fe1cd03a47298b1e42e92ae7009d": {
          "model_module": "@jupyter-widgets/controls",
          "model_module_version": "1.5.0",
          "model_name": "FloatProgressModel",
          "state": {
            "_dom_classes": [],
            "_model_module": "@jupyter-widgets/controls",
            "_model_module_version": "1.5.0",
            "_model_name": "FloatProgressModel",
            "_view_count": null,
            "_view_module": "@jupyter-widgets/controls",
            "_view_module_version": "1.5.0",
            "_view_name": "ProgressView",
            "bar_style": "success",
            "description": "",
            "description_tooltip": null,
            "layout": "IPY_MODEL_db26ea0a3dd04a97affab3fab209b333",
            "max": 4,
            "min": 0,
            "orientation": "horizontal",
            "style": "IPY_MODEL_ffbf87381be148e8909c00dc6dbdc325",
            "value": 4
          }
        },
        "d9bee6ca2c7e4436bbf5db3fb746f4d2": {
          "model_module": "@jupyter-widgets/controls",
          "model_module_version": "1.5.0",
          "model_name": "DescriptionStyleModel",
          "state": {
            "_model_module": "@jupyter-widgets/controls",
            "_model_module_version": "1.5.0",
            "_model_name": "DescriptionStyleModel",
            "_view_count": null,
            "_view_module": "@jupyter-widgets/base",
            "_view_module_version": "1.2.0",
            "_view_name": "StyleView",
            "description_width": ""
          }
        },
        "db26ea0a3dd04a97affab3fab209b333": {
          "model_module": "@jupyter-widgets/base",
          "model_module_version": "1.2.0",
          "model_name": "LayoutModel",
          "state": {
            "_model_module": "@jupyter-widgets/base",
            "_model_module_version": "1.2.0",
            "_model_name": "LayoutModel",
            "_view_count": null,
            "_view_module": "@jupyter-widgets/base",
            "_view_module_version": "1.2.0",
            "_view_name": "LayoutView",
            "align_content": null,
            "align_items": null,
            "align_self": null,
            "border": null,
            "bottom": null,
            "display": null,
            "flex": null,
            "flex_flow": null,
            "grid_area": null,
            "grid_auto_columns": null,
            "grid_auto_flow": null,
            "grid_auto_rows": null,
            "grid_column": null,
            "grid_gap": null,
            "grid_row": null,
            "grid_template_areas": null,
            "grid_template_columns": null,
            "grid_template_rows": null,
            "height": null,
            "justify_content": null,
            "justify_items": null,
            "left": null,
            "margin": null,
            "max_height": null,
            "max_width": null,
            "min_height": null,
            "min_width": null,
            "object_fit": null,
            "object_position": null,
            "order": null,
            "overflow": null,
            "overflow_x": null,
            "overflow_y": null,
            "padding": null,
            "right": null,
            "top": null,
            "visibility": null,
            "width": null
          }
        },
        "ea54c4823ddf49269f203d6568631d63": {
          "model_module": "@jupyter-widgets/controls",
          "model_module_version": "1.5.0",
          "model_name": "HBoxModel",
          "state": {
            "_dom_classes": [],
            "_model_module": "@jupyter-widgets/controls",
            "_model_module_version": "1.5.0",
            "_model_name": "HBoxModel",
            "_view_count": null,
            "_view_module": "@jupyter-widgets/controls",
            "_view_module_version": "1.5.0",
            "_view_name": "HBoxView",
            "box_style": "",
            "children": [
              "IPY_MODEL_fe13ec2143db44bbb82e56aebc56d275",
              "IPY_MODEL_9de3fe1cd03a47298b1e42e92ae7009d",
              "IPY_MODEL_172828c0ab284deebd74fab090ec337c"
            ],
            "layout": "IPY_MODEL_6bf851aef8f643e39576f4412d460bfc"
          }
        },
        "fe13ec2143db44bbb82e56aebc56d275": {
          "model_module": "@jupyter-widgets/controls",
          "model_module_version": "1.5.0",
          "model_name": "HTMLModel",
          "state": {
            "_dom_classes": [],
            "_model_module": "@jupyter-widgets/controls",
            "_model_module_version": "1.5.0",
            "_model_name": "HTMLModel",
            "_view_count": null,
            "_view_module": "@jupyter-widgets/controls",
            "_view_module_version": "1.5.0",
            "_view_name": "HTMLView",
            "description": "",
            "description_tooltip": null,
            "layout": "IPY_MODEL_82c791e845664ef4963e749c086bea46",
            "placeholder": "​",
            "style": "IPY_MODEL_d9bee6ca2c7e4436bbf5db3fb746f4d2",
            "value": "Loading checkpoint shards: 100%"
          }
        },
        "ffbf87381be148e8909c00dc6dbdc325": {
          "model_module": "@jupyter-widgets/controls",
          "model_module_version": "1.5.0",
          "model_name": "ProgressStyleModel",
          "state": {
            "_model_module": "@jupyter-widgets/controls",
            "_model_module_version": "1.5.0",
            "_model_name": "ProgressStyleModel",
            "_view_count": null,
            "_view_module": "@jupyter-widgets/base",
            "_view_module_version": "1.2.0",
            "_view_name": "StyleView",
            "bar_color": null,
            "description_width": ""
          }
        }
      }
    }
  },
  "nbformat": 4,
  "nbformat_minor": 0
}
