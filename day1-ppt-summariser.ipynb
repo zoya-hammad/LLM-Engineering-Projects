{
 "cells": [
  {
   "cell_type": "markdown",
   "id": "bfa3abd0-4e66-4117-96f9-7a71fbb6d0cb",
   "metadata": {},
   "source": [
    "# Powerpoint Slides Summarizer\n",
    "\n",
    "This converts a Power Point presentation into notes that a student can easily skim through.\n",
    "\n",
    "Concepts Used:\n",
    "- Converting Contents of PPT to text via python-pptx\n",
    "- User and System Prompts\n",
    "- Use of Open AI GPT-4o-mini via API key\n"
   ]
  },
  {
   "cell_type": "code",
   "execution_count": 3,
   "id": "ab95eb49-6a2d-4c7d-9057-78a2cd9364cc",
   "metadata": {},
   "outputs": [
    {
     "name": "stdout",
     "output_type": "stream",
     "text": [
      "Requirement already satisfied: python-pptx in c:\\users\\92310\\anaconda3\\envs\\llms\\lib\\site-packages (1.0.2)\n",
      "Requirement already satisfied: Pillow>=3.3.2 in c:\\users\\92310\\anaconda3\\envs\\llms\\lib\\site-packages (from python-pptx) (11.1.0)\n",
      "Requirement already satisfied: XlsxWriter>=0.5.7 in c:\\users\\92310\\anaconda3\\envs\\llms\\lib\\site-packages (from python-pptx) (3.2.2)\n",
      "Requirement already satisfied: lxml>=3.1.0 in c:\\users\\92310\\anaconda3\\envs\\llms\\lib\\site-packages (from python-pptx) (5.3.1)\n",
      "Requirement already satisfied: typing-extensions>=4.9.0 in c:\\users\\92310\\anaconda3\\envs\\llms\\lib\\site-packages (from python-pptx) (4.12.2)\n"
     ]
    }
   ],
   "source": [
    "!pip install python-pptx"
   ]
  },
  {
   "cell_type": "code",
   "execution_count": 4,
   "id": "62715f16-7125-455e-98e7-5705871c0e4a",
   "metadata": {},
   "outputs": [],
   "source": [
    "# imports\n",
    "\n",
    "import os\n",
    "import requests\n",
    "from dotenv import load_dotenv\n",
    "from bs4 import BeautifulSoup\n",
    "from IPython.display import Markdown, display\n",
    "from openai import OpenAI"
   ]
  },
  {
   "cell_type": "code",
   "execution_count": 5,
   "id": "ff42eab7-789d-44f8-a5cc-64baeebf3224",
   "metadata": {},
   "outputs": [
    {
     "name": "stdout",
     "output_type": "stream",
     "text": [
      "API key found and looks good so far!\n"
     ]
    }
   ],
   "source": [
    "# Load environment variables in a file called .env\n",
    "\n",
    "load_dotenv(override=True)\n",
    "api_key = os.getenv('OPENAI_API_KEY')\n",
    "\n",
    "# Check the key\n",
    "\n",
    "if not api_key:\n",
    "    print(\"No API key was found - please head over to the troubleshooting notebook in this folder to identify & fix!\")\n",
    "elif not api_key.startswith(\"sk-proj-\"):\n",
    "    print(\"An API key was found, but it doesn't start sk-proj-; please check you're using the right key - see troubleshooting notebook\")\n",
    "elif api_key.strip() != api_key:\n",
    "    print(\"An API key was found, but it looks like it might have space or tab characters at the start or end - please remove them - see troubleshooting notebook\")\n",
    "else:\n",
    "    print(\"API key found and looks good so far!\")"
   ]
  },
  {
   "cell_type": "code",
   "execution_count": 6,
   "id": "bce425c2-6d19-4c03-93ce-8930dabc61ee",
   "metadata": {},
   "outputs": [],
   "source": [
    "# creating an instance\n",
    "openai = OpenAI()"
   ]
  },
  {
   "cell_type": "code",
   "execution_count": 9,
   "id": "c0c75e30-3b38-4a89-b7d3-a41a6f5dc650",
   "metadata": {},
   "outputs": [],
   "source": [
    "from pptx import Presentation\n",
    "\n",
    "class PowerPoint():\n",
    "    def __init__(self,ppt):\n",
    "        \"\"\"\n",
    "        Creates a PowerPoint object, with name and text.\n",
    "        \"\"\"\n",
    "        self.ppt = ppt\n",
    "        self.title = os.path.basename(ppt)\n",
    "        self.text = self.extract_text()\n",
    "\n",
    "    def extract_text(self):\n",
    "        \"\"\"\n",
    "        Extracts text from powerpoint.\n",
    "        \"\"\"\n",
    "        prs = Presentation(self.ppt)\n",
    "        text_content = []\n",
    "    \n",
    "        for slide in prs.slides:\n",
    "            for shape in slide.shapes:\n",
    "                if hasattr(shape, \"text\"):\n",
    "                    text_content.append(shape.text)\n",
    "    \n",
    "        return \"\\n\".join(text_content)\n",
    "    "
   ]
  },
  {
   "cell_type": "code",
   "execution_count": 8,
   "id": "1963a055-87f4-4e47-8456-cac4d4ac57fc",
   "metadata": {},
   "outputs": [],
   "source": [
    "system_prompt = \"You are an assistant that analyzes the contents \\\n",
    "of a PowerPoint presentation, and provides a summary in the style of \\\n",
    "a cheat-sheet, for students to easily learn key concepts from.\\\n",
    "You are to ignore text that might be navigation-related\\\n",
    "and respond in Markdown.\""
   ]
  },
  {
   "cell_type": "code",
   "execution_count": 10,
   "id": "ca600e90-7d3f-4fc7-a698-1b8f2925f81e",
   "metadata": {},
   "outputs": [],
   "source": [
    "# A function that writes a User Prompt that asks for summaries of PowerPoints:\n",
    "\n",
    "def user_prompt_for(powerpoint):\n",
    "    user_prompt = f\"You are looking at a website titled {powerpoint.title}\"\n",
    "    user_prompt += \"\\nThe contents of this powerpoint are as follows; \\\n",
    "please provide a summary of the content in markdown. \\\n",
    "If it includes a question bank, add that along with short answers too.\\n\\n\"\n",
    "    user_prompt += powerpoint.text\n",
    "    return user_prompt"
   ]
  },
  {
   "cell_type": "code",
   "execution_count": 14,
   "id": "4fe19c56-9940-4528-b43a-c86798b215d2",
   "metadata": {},
   "outputs": [],
   "source": [
    "def messages_for(powerpoint):\n",
    "    return [\n",
    "        {\"role\": \"system\", \"content\": system_prompt},\n",
    "        {\"role\": \"user\", \"content\": user_prompt_for(powerpoint)}\n",
    "    ]"
   ]
  },
  {
   "cell_type": "code",
   "execution_count": 15,
   "id": "f7704da5-90b0-40af-bbb4-7d589309f180",
   "metadata": {},
   "outputs": [],
   "source": [
    "# And now: call the OpenAI API. \n",
    "\n",
    "def summarize(powerpoint_path):\n",
    "    powerpoint = PowerPoint(powerpoint_path)\n",
    "    response = openai.chat.completions.create(\n",
    "        model = \"gpt-4o-mini\",\n",
    "        messages = messages_for(powerpoint)\n",
    "    )\n",
    "    return response.choices[0].message.content"
   ]
  },
  {
   "cell_type": "code",
   "execution_count": 18,
   "id": "49d1d0cf-fa4b-4bea-bd68-a834145070ef",
   "metadata": {},
   "outputs": [],
   "source": [
    "def display_summary(url):\n",
    "    summary = summarize(url)\n",
    "    display(Markdown(summary))"
   ]
  },
  {
   "cell_type": "code",
   "execution_count": 19,
   "id": "348078d1-e86f-4eb3-909d-33ab4ede984e",
   "metadata": {},
   "outputs": [
    {
     "data": {
      "text/markdown": [
       "# Cheat-Sheet: Theoretical Perspectives on Media and Technology\n",
       "\n",
       "## Introduction to Media and Technology\n",
       "- **Impact of Technology:** Transforms daily interactions; enhances connectivity through social media (e.g., Facebook).\n",
       "- **Influence:** Affects communication, socialization, and perception of the world.\n",
       "\n",
       "## Technological Inequality\n",
       "- **Digital Divide:** Gap between those with and without access to technology.\n",
       "- **Knowledge Gap:** Differences in knowledge based on socioeconomic status.\n",
       "\n",
       "## Evolution of Media\n",
       "- **Interwoven Relationship:** Media and technology influence each other.\n",
       "- **Historical Impact:** The printing press revolutionized information; rapid technological advances continue to change media.\n",
       "\n",
       "## Types of Media Technology\n",
       "- **Examples:** Comics, Movies, Websites, Newspapers.\n",
       "- **Concerns:** Link between violent video games and aggressive behavior (Anderson and Bushman, 2001).\n",
       "- **Regulations:**\n",
       "  - ERSB rating system for video games (1994).\n",
       "  - Supreme Court ruling on minors accessing video games (2011).\n",
       "\n",
       "## Global Implications of Media and Technology\n",
       "- **Connecting People:** Thomas Friedman’s \"The World is Flat\" emphasizes the role of computing and the internet in globalization.\n",
       "\n",
       "## Case Studies\n",
       "- **Government Censorship:** Local alternatives to Western social media; using social media for critique amidst restrictions.\n",
       "- **Mobile Phones in Sub-Saharan Africa:** Increased market access and money transfers.\n",
       "- **China and the Internet:** Examples of information control and technology's role in society.\n",
       "\n",
       "## Theoretical Perspectives\n",
       "\n",
       "### Functionalism\n",
       "- **Media Functions:**\n",
       "  - **Commercial:** Advertising platform.\n",
       "  - **Entertainment:** Various forms of media.\n",
       "  - **Social-Norm:** Socializing tool.\n",
       "  - **Life-Changing:** Enhances access to information.\n",
       "- **Manifest Functions:** Shape reality perceptions, impact language, and social cohesion.\n",
       "- **Dysfunctions:** Over-commercialization, excessive media consumption, digital addiction, privacy concerns.\n",
       "\n",
       "### Conflict Theory\n",
       "- **Gatekeeping:** Influential figures control media; selective information is given to the public.\n",
       "- **Digital Control:** Surveillance and monitoring of behavior.\n",
       "- **Unbalanced Political Arena:** Financial power influences media exposure.\n",
       "\n",
       "### Feminist Perspective\n",
       "- **Media Representation:** Exclusion of diverse beauty and reinforcement of stereotypes.\n",
       "- **Cyber-Feminism:** Advocacy for women's representation and rights in the digital realm.\n",
       "- **Movements:** #MeToo, body positivity, blogs by Iraqi women.\n",
       "\n",
       "### Symbolic Interactionism\n",
       "- **Symbolism of Technology:** Represents wealth/status differently perceived by various groups (Neo-Luddites vs. Technophiles).\n",
       "- **Media's Role:** Shapes how reality is understood and creates societal frameworks for comparison.\n",
       "\n",
       "## Questions and Answers\n",
       "1. **What is Technological Stratification?**\n",
       "   - Differences in access to technology leading to unequal opportunities.\n",
       "\n",
       "2. **What is the 'Digital Divide'?**\n",
       "   - The gap between those who have access to digital technology and those who do not.\n",
       "\n",
       "3. **What are the risks associated with violent video games?**\n",
       "   - Linked to increased aggression and desensitization to violence.\n",
       "\n",
       "4. **What does 'gatekeeping' refer to?**\n",
       "   - The process of filtering and determining what information is presented in the media.\n",
       "\n",
       "5. **What is the significance of the ERSB rating system?**\n",
       "   - It provides a framework for assessing the content of video games to inform consumers.\n",
       "\n",
       "6. **Define Cyber-Feminism.**\n",
       "   - Promoting feminism and women's representation within the digital and online spaces.\n",
       "\n",
       "7. **What does 'panoptic surveillance' refer to?**\n",
       "   - Constant digital monitoring without direct communication, such as through security cameras.\n",
       "\n",
       "---\n",
       "\n",
       "This cheat-sheet provides an overview of the critical themes explored in the theoretical perspectives on media and technology. Be sure to understand these concepts for a holistic grasp of media studies!"
      ],
      "text/plain": [
       "<IPython.core.display.Markdown object>"
      ]
     },
     "metadata": {},
     "output_type": "display_data"
    }
   ],
   "source": [
    "ppt_file = \"Theoretical Perspectives on Media and Technology.pptx\" \n",
    "display_summary(ppt_file)"
   ]
  }
 ],
 "metadata": {
  "kernelspec": {
   "display_name": "Python 3 (ipykernel)",
   "language": "python",
   "name": "python3"
  },
  "language_info": {
   "codemirror_mode": {
    "name": "ipython",
    "version": 3
   },
   "file_extension": ".py",
   "mimetype": "text/x-python",
   "name": "python",
   "nbconvert_exporter": "python",
   "pygments_lexer": "ipython3",
   "version": "3.11.11"
  }
 },
 "nbformat": 4,
 "nbformat_minor": 5
}
