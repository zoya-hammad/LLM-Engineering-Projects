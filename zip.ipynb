{
 "cells": [
  {
   "cell_type": "code",
   "execution_count": 1,
   "id": "80ce9924-82df-4c9b-acea-34c931fd0c87",
   "metadata": {},
   "outputs": [],
   "source": [
    "fruits = ['apples','bananas','oranges']\n",
    "vegetables = ['cucumbers','potatoes','brocolli','peas']\n"
   ]
  },
  {
   "cell_type": "code",
   "execution_count": 9,
   "id": "e9b57d8a-58f9-4854-a022-b2195bb4ea08",
   "metadata": {},
   "outputs": [
    {
     "name": "stdout",
     "output_type": "stream",
     "text": [
      "apples cucumbers\n",
      "bananas potatoes\n",
      "oranges brocolli\n"
     ]
    }
   ],
   "source": [
    "# zip() creates an iterator that pairs elements from fruits and vegetables.\n",
    "\n",
    "for fruit, vegetable in zip(fruits,vegetables):\n",
    "    print(fruit,vegetable)"
   ]
  },
  {
   "cell_type": "code",
   "execution_count": 6,
   "id": "692f7781-2e6e-481f-b197-756bf35f5e0b",
   "metadata": {},
   "outputs": [
    {
     "data": {
      "text/plain": [
       "[('apples', 'cucumbers'), ('bananas', 'potatoes'), ('oranges', 'brocolli')]"
      ]
     },
     "execution_count": 6,
     "metadata": {},
     "output_type": "execute_result"
    }
   ],
   "source": [
    "combo = list(zip(fruits,vegetables))\n",
    "combo\n"
   ]
  },
  {
   "cell_type": "code",
   "execution_count": 7,
   "id": "92595505-765f-46f0-9fb2-e73db25a8a58",
   "metadata": {},
   "outputs": [],
   "source": [
    "unzipped_fruits, unzipped_vegetables = zip(*combo)"
   ]
  },
  {
   "cell_type": "code",
   "execution_count": 8,
   "id": "b3e0eaad-48d9-4efc-b613-9832213276ba",
   "metadata": {},
   "outputs": [
    {
     "name": "stdout",
     "output_type": "stream",
     "text": [
      "('apples', 'bananas', 'oranges')\n",
      "('cucumbers', 'potatoes', 'brocolli')\n"
     ]
    }
   ],
   "source": [
    "print(unzipped_fruits)\n",
    "print(unzipped_vegetables)"
   ]
  },
  {
   "cell_type": "code",
   "execution_count": 12,
   "id": "13d240b6-937f-4a67-916e-69c2d820a055",
   "metadata": {},
   "outputs": [
    {
     "name": "stdout",
     "output_type": "stream",
     "text": [
      "apples cucumbers\n",
      "bananas potatoes\n",
      "oranges brocolli\n"
     ]
    }
   ],
   "source": [
    "zipped = zip(fruits,vegetables)\n",
    "\n",
    "\n",
    "for fruit, vegetable in zipped:\n",
    "    print(fruit,vegetable)"
   ]
  },
  {
   "cell_type": "code",
   "execution_count": 14,
   "id": "c74073af-58fb-46d0-ad88-3d154cb6745e",
   "metadata": {},
   "outputs": [],
   "source": [
    "for fruit, vegetable in zipped:\n",
    "    print(fruit,vegetable)\n",
    "\n",
    "# empty because iterators are exhausted after use. If you need to access the data multiple times, store it in a list:"
   ]
  },
  {
   "cell_type": "code",
   "execution_count": null,
   "id": "94e4f79f-7a50-4f7c-94f7-b000a46f19db",
   "metadata": {},
   "outputs": [],
   "source": []
  }
 ],
 "metadata": {
  "kernelspec": {
   "display_name": "Python 3 (ipykernel)",
   "language": "python",
   "name": "python3"
  },
  "language_info": {
   "codemirror_mode": {
    "name": "ipython",
    "version": 3
   },
   "file_extension": ".py",
   "mimetype": "text/x-python",
   "name": "python",
   "nbconvert_exporter": "python",
   "pygments_lexer": "ipython3",
   "version": "3.11.11"
  }
 },
 "nbformat": 4,
 "nbformat_minor": 5
}
