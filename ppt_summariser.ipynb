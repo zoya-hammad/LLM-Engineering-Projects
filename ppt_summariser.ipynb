{
 "cells": [
  {
   "cell_type": "markdown",
   "id": "bfa3abd0-4e66-4117-96f9-7a71fbb6d0cb",
   "metadata": {},
   "source": [
    "# Powerpoint Slides Summarizer\n",
    "\n",
    "This converts a Power Point presentation into notes that a student can easily skim through.\n",
    "\n",
    "Concepts Used:\n",
    "- Converting Contents of PPT to text via python-pptx\n",
    "- User and System Prompts\n",
    "- Use of Open AI GPT-4o-mini via API key\n"
   ]
  },
  {
   "cell_type": "code",
   "execution_count": 1,
   "id": "ab95eb49-6a2d-4c7d-9057-78a2cd9364cc",
   "metadata": {},
   "outputs": [
    {
     "name": "stdout",
     "output_type": "stream",
     "text": [
      "Requirement already satisfied: python-pptx in c:\\users\\92310\\anaconda3\\envs\\llms\\lib\\site-packages (1.0.2)\n",
      "Requirement already satisfied: Pillow>=3.3.2 in c:\\users\\92310\\anaconda3\\envs\\llms\\lib\\site-packages (from python-pptx) (11.1.0)\n",
      "Requirement already satisfied: XlsxWriter>=0.5.7 in c:\\users\\92310\\anaconda3\\envs\\llms\\lib\\site-packages (from python-pptx) (3.2.2)\n",
      "Requirement already satisfied: lxml>=3.1.0 in c:\\users\\92310\\anaconda3\\envs\\llms\\lib\\site-packages (from python-pptx) (5.3.1)\n",
      "Requirement already satisfied: typing-extensions>=4.9.0 in c:\\users\\92310\\anaconda3\\envs\\llms\\lib\\site-packages (from python-pptx) (4.12.2)\n"
     ]
    }
   ],
   "source": [
    "!pip install python-pptx"
   ]
  },
  {
   "cell_type": "code",
   "execution_count": 2,
   "id": "62715f16-7125-455e-98e7-5705871c0e4a",
   "metadata": {},
   "outputs": [],
   "source": [
    "# imports\n",
    "\n",
    "import os\n",
    "import requests\n",
    "from dotenv import load_dotenv\n",
    "from bs4 import BeautifulSoup\n",
    "from IPython.display import Markdown, display\n",
    "from openai import OpenAI"
   ]
  },
  {
   "cell_type": "code",
   "execution_count": 3,
   "id": "ff42eab7-789d-44f8-a5cc-64baeebf3224",
   "metadata": {},
   "outputs": [
    {
     "name": "stdout",
     "output_type": "stream",
     "text": [
      "API key found and looks good so far!\n"
     ]
    }
   ],
   "source": [
    "# Load environment variables in a file called .env\n",
    "\n",
    "load_dotenv(override=True)\n",
    "api_key = os.getenv('OPENAI_API_KEY')\n",
    "\n",
    "# Check the key\n",
    "\n",
    "if not api_key:\n",
    "    print(\"No API key was found - please head over to the troubleshooting notebook in this folder to identify & fix!\")\n",
    "elif not api_key.startswith(\"sk-proj-\"):\n",
    "    print(\"An API key was found, but it doesn't start sk-proj-; please check you're using the right key - see troubleshooting notebook\")\n",
    "elif api_key.strip() != api_key:\n",
    "    print(\"An API key was found, but it looks like it might have space or tab characters at the start or end - please remove them - see troubleshooting notebook\")\n",
    "else:\n",
    "    print(\"API key found and looks good so far!\")"
   ]
  },
  {
   "cell_type": "code",
   "execution_count": 4,
   "id": "bce425c2-6d19-4c03-93ce-8930dabc61ee",
   "metadata": {},
   "outputs": [],
   "source": [
    "# creating an instance\n",
    "openai = OpenAI()"
   ]
  },
  {
   "cell_type": "code",
   "execution_count": 18,
   "id": "c0c75e30-3b38-4a89-b7d3-a41a6f5dc650",
   "metadata": {},
   "outputs": [],
   "source": [
    "from pptx import Presentation\n",
    "\n",
    "class PowerPoint():\n",
    "    def __init__(self,ppt):\n",
    "        \"\"\"\n",
    "        Creates a PowerPoint object, with name and text.\n",
    "        \"\"\"\n",
    "        self.ppt = ppt\n",
    "        self.title = os.path.basename(ppt)\n",
    "        self.title = self.title[:-5]\n",
    "        self.text = self.extract_text()\n",
    "\n",
    "    def extract_text(self):\n",
    "        \"\"\"\n",
    "        Extracts text from powerpoint.\n",
    "        \"\"\"\n",
    "        prs = Presentation(self.ppt)\n",
    "        text_content = []\n",
    "    \n",
    "        for slide in prs.slides:\n",
    "            for shape in slide.shapes:\n",
    "                if hasattr(shape, \"text\"):\n",
    "                    text_content.append(shape.text)\n",
    "    \n",
    "        return \"\\n\".join(text_content)\n",
    "    "
   ]
  },
  {
   "cell_type": "code",
   "execution_count": 6,
   "id": "1963a055-87f4-4e47-8456-cac4d4ac57fc",
   "metadata": {},
   "outputs": [],
   "source": [
    "system_prompt = \"You are an assistant that analyzes the contents \\\n",
    "of a PowerPoint presentation, and provides a summary in the style of \\\n",
    "a cheat-sheet, for students to easily learn key concepts from.\\\n",
    "You are to ignore text that might be navigation-related\\\n",
    "and respond in Markdown.\""
   ]
  },
  {
   "cell_type": "code",
   "execution_count": 7,
   "id": "ca600e90-7d3f-4fc7-a698-1b8f2925f81e",
   "metadata": {},
   "outputs": [],
   "source": [
    "# A function that writes a User Prompt that asks for summaries of PowerPoints:\n",
    "\n",
    "def user_prompt_for(powerpoint):\n",
    "    user_prompt = f\"You are looking at a website titled {powerpoint.title}\"\n",
    "    user_prompt += \"\\nThe contents of this powerpoint are as follows; \\\n",
    "please provide a summary of the content in markdown. \\\n",
    "If it includes a question bank, add that along with short answers too.\\n\\n\"\n",
    "    user_prompt += powerpoint.text\n",
    "    return user_prompt"
   ]
  },
  {
   "cell_type": "code",
   "execution_count": 8,
   "id": "4fe19c56-9940-4528-b43a-c86798b215d2",
   "metadata": {},
   "outputs": [],
   "source": [
    "def messages_for(powerpoint):\n",
    "    return [\n",
    "        {\"role\": \"system\", \"content\": system_prompt},\n",
    "        {\"role\": \"user\", \"content\": user_prompt_for(powerpoint)}\n",
    "    ]"
   ]
  },
  {
   "cell_type": "code",
   "execution_count": 9,
   "id": "f7704da5-90b0-40af-bbb4-7d589309f180",
   "metadata": {},
   "outputs": [],
   "source": [
    "# And now: call the OpenAI API. \n",
    "\n",
    "def summarize(powerpoint_path):\n",
    "    powerpoint = PowerPoint(powerpoint_path)\n",
    "    response = openai.chat.completions.create(\n",
    "        model = \"gpt-4o-mini\",\n",
    "        messages = messages_for(powerpoint)\n",
    "    )\n",
    "    return response.choices[0].message.content, powerpoint.title"
   ]
  },
  {
   "cell_type": "code",
   "execution_count": 19,
   "id": "49d1d0cf-fa4b-4bea-bd68-a834145070ef",
   "metadata": {},
   "outputs": [],
   "source": [
    "def display_summary(url, save_to_file=True):\n",
    "    summary, title = summarize(url)\n",
    "    if save_to_file:\n",
    "        with open(f'{title}.txt', 'w') as file:\n",
    "            file.write(summary)\n",
    "    display(Markdown(summary))"
   ]
  },
  {
   "cell_type": "code",
   "execution_count": 20,
   "id": "348078d1-e86f-4eb3-909d-33ab4ede984e",
   "metadata": {},
   "outputs": [
    {
     "data": {
      "text/markdown": [
       "# Cheat-Sheet: Theoretical Perspectives on Media and Technology\n",
       "\n",
       "## Introduction to Media and Technology\n",
       "- **Impact of Technology**: Transforms communication, social interaction, and perception of the world. \n",
       "- **Examples**: Using Facebook for connection, technology for daily tasks, and constant connectivity leading to distractions.\n",
       "\n",
       "## Technological Inequality\n",
       "- **Digital Divide**: Gap between those with and without access to technology.\n",
       "- **Knowledge Gap**: Differences in knowledge levels based on information access.\n",
       "\n",
       "## Evolution of Media\n",
       "- **Interwoven Relationship**: Media relies on technology; both influence society.\n",
       "- **Historical Impact**: The printing press revolutionized information dissemination, with tech advancements continuing to transform media.\n",
       "\n",
       "## Types of Media and Concerns\n",
       "- **Media Forms**: Comics, movies, websites, newspapers, etc.\n",
       "- **Violent Media Debate**: Concerns over behaviors linked to violent games (e.g., GTA).\n",
       "  - **Research Findings**: Link between violent games and aggression (Anderson and Bushman, 2001).\n",
       "  - **Regulations**: ERSB rating system for games (1994); Supreme Court ruling on minors (2011).\n",
       "\n",
       "## Global Implications of Media and Technology\n",
       "- **Connecting People and Economies**: Importance of personal computing and the internet (Friedman's \"The World is Flat\").\n",
       "\n",
       "## Case Studies and Real-World Impact\n",
       "- **Government Censorship**: Alternatives to Western media; use of social media for government critiques.\n",
       "- **Market Access**: Shared-phone programs and money transfers.\n",
       "- **Cultural Imperialism Concerns**: Examined through case studies, such as mobile phones in Sub-Saharan Africa and China's internet.\n",
       "\n",
       "## Theoretical Perspectives on Media and Technology\n",
       "\n",
       "### Functionalism\n",
       "- **Roles of Media**:\n",
       "  - Commercial: Advertising.\n",
       "  - Entertainment: Gaming, TV, social networking.\n",
       "  - Social-Norm: Socialization tool.\n",
       "  - Life-Changing: Access to digital resources.\n",
       "- **Functions**: Shape perceptions and social cohesion, but may lead to dysfunctions like over-commercialization, digital addiction, and media-induced anxiety.\n",
       "\n",
       "### Conflict Theory\n",
       "- **Media Control**: Power dynamics; gatekeeping by individuals and institutions.\n",
       "- **Money Influence**: Those with wealth have increased visibility in media.\n",
       "- **Digital Control**: Surveillance and tracking via technology (panoptic surveillance).\n",
       "\n",
       "### Feminist Perspective\n",
       "- **Media Influence**: Beauty standards affect women's self-image and enforce gender stereotypes.\n",
       "- **Cyber-Feminism**: Promotion of feminist ideals through digital platforms (e.g., #MeToo Movement, body positivity).\n",
       "\n",
       "### Symbolic Interactionism\n",
       "- **Symbolism of Technology**: Represents wealth and status; interpretations vary (e.g., Neo-Luddites vs. Technophiles).\n",
       "- **Social Construction of Reality**: Media shapes our worldview and influences how we see social groups.\n",
       "\n",
       "## Question Bank\n",
       "1. **What is the digital divide?**\n",
       "   - The gap between individuals with access to technology and those without.\n",
       "   \n",
       "2. **How has the printing press impacted information sharing?**\n",
       "   - It revolutionized the dissemination of information, making it more accessible to the public.\n",
       "\n",
       "3. **What concerns are associated with violent video games?**\n",
       "   - They are linked to aggressive behavior and have prompted regulatory responses.\n",
       "\n",
       "4. **What is gatekeeping in media?**\n",
       "   - The process by which selected messages are filtered and shaped for mass media consumption.\n",
       "\n",
       "5. **How does feminist perspective critique media?**\n",
       "   - It highlights how media perpetuates beauty standards, gender stereotypes, and contributes to the gender gap in tech fields.\n",
       "\n",
       "6. **What role does technology play in surveillance?**\n",
       "   - Technology facilitates constant monitoring and tracking of individuals' movements (panoptic surveillance).\n",
       "\n",
       "This summary encapsulates key themes and concepts from the presentation, providing a quick reference for students."
      ],
      "text/plain": [
       "<IPython.core.display.Markdown object>"
      ]
     },
     "metadata": {},
     "output_type": "display_data"
    }
   ],
   "source": [
    "ppt_file = \"Theoretical Perspectives on Media and Technology.pptx\" \n",
    "display_summary(ppt_file)"
   ]
  },
  {
   "cell_type": "code",
   "execution_count": null,
   "id": "187cb666-8837-45e3-8720-3e17c1ecf2a5",
   "metadata": {},
   "outputs": [],
   "source": []
  }
 ],
 "metadata": {
  "kernelspec": {
   "display_name": "Python 3 (ipykernel)",
   "language": "python",
   "name": "python3"
  },
  "language_info": {
   "codemirror_mode": {
    "name": "ipython",
    "version": 3
   },
   "file_extension": ".py",
   "mimetype": "text/x-python",
   "name": "python",
   "nbconvert_exporter": "python",
   "pygments_lexer": "ipython3",
   "version": "3.11.11"
  }
 },
 "nbformat": 4,
 "nbformat_minor": 5
}
